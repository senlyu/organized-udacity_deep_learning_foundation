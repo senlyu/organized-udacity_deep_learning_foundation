{
 "cells": [
  {
   "cell_type": "markdown",
   "metadata": {
    "collapsed": true,
    "deletable": true,
    "editable": true
   },
   "source": [
    "# Image Classification\n",
    "In this project, you'll classify images from the [CIFAR-10 dataset](https://www.cs.toronto.edu/~kriz/cifar.html).  The dataset consists of airplanes, dogs, cats, and other objects. You'll preprocess the images, then train a convolutional neural network on all the samples. The images need to be normalized and the labels need to be one-hot encoded.  You'll get to apply what you learned and build a convolutional, max pooling, dropout, and fully connected layers.  At the end, you'll get to see your neural network's predictions on the sample images.\n",
    "## Get the Data\n",
    "Run the following cell to download the [CIFAR-10 dataset for python](https://www.cs.toronto.edu/~kriz/cifar-10-python.tar.gz)."
   ]
  },
  {
   "cell_type": "code",
   "execution_count": 1,
   "metadata": {
    "collapsed": false,
    "deletable": true,
    "editable": true
   },
   "outputs": [
    {
     "name": "stdout",
     "output_type": "stream",
     "text": [
      "All files found!\n"
     ]
    }
   ],
   "source": [
    "\"\"\"\n",
    "DON'T MODIFY ANYTHING IN THIS CELL THAT IS BELOW THIS LINE\n",
    "\"\"\"\n",
    "from urllib.request import urlretrieve\n",
    "from os.path import isfile, isdir\n",
    "from tqdm import tqdm\n",
    "import problem_unittests as tests\n",
    "import tarfile\n",
    "\n",
    "cifar10_dataset_folder_path = 'cifar-10-batches-py'\n",
    "\n",
    "class DLProgress(tqdm):\n",
    "    last_block = 0\n",
    "\n",
    "    def hook(self, block_num=1, block_size=1, total_size=None):\n",
    "        self.total = total_size\n",
    "        self.update((block_num - self.last_block) * block_size)\n",
    "        self.last_block = block_num\n",
    "\n",
    "if not isfile('cifar-10-python.tar.gz'):\n",
    "    with DLProgress(unit='B', unit_scale=True, miniters=1, desc='CIFAR-10 Dataset') as pbar:\n",
    "        urlretrieve(\n",
    "            'https://www.cs.toronto.edu/~kriz/cifar-10-python.tar.gz',\n",
    "            'cifar-10-python.tar.gz',\n",
    "            pbar.hook)\n",
    "\n",
    "if not isdir(cifar10_dataset_folder_path):\n",
    "    with tarfile.open('cifar-10-python.tar.gz') as tar:\n",
    "        tar.extractall()\n",
    "        tar.close()\n",
    "\n",
    "\n",
    "tests.test_folder_path(cifar10_dataset_folder_path)"
   ]
  },
  {
   "cell_type": "markdown",
   "metadata": {
    "deletable": true,
    "editable": true
   },
   "source": [
    "## Explore the Data\n",
    "The dataset is broken into batches to prevent your machine from running out of memory.  The CIFAR-10 dataset consists of 5 batches, named `data_batch_1`, `data_batch_2`, etc.. Each batch contains the labels and images that are one of the following:\n",
    "* airplane\n",
    "* automobile\n",
    "* bird\n",
    "* cat\n",
    "* deer\n",
    "* dog\n",
    "* frog\n",
    "* horse\n",
    "* ship\n",
    "* truck\n",
    "\n",
    "Understanding a dataset is part of making predictions on the data.  Play around with the code cell below by changing the `batch_id` and `sample_id`. The `batch_id` is the id for a batch (1-5). The `sample_id` is the id for a image and label pair in the batch.\n",
    "\n",
    "Ask yourself \"What are all possible labels?\", \"What is the range of values for the image data?\", \"Are the labels in order or random?\".  Answers to questions like these will help you preprocess the data and end up with better predictions."
   ]
  },
  {
   "cell_type": "code",
   "execution_count": 2,
   "metadata": {
    "collapsed": false,
    "deletable": true,
    "editable": true
   },
   "outputs": [
    {
     "name": "stdout",
     "output_type": "stream",
     "text": [
      "\n",
      "Stats of batch 1:\n",
      "Samples: 10000\n",
      "Label Counts: {0: 1005, 1: 974, 2: 1032, 3: 1016, 4: 999, 5: 937, 6: 1030, 7: 1001, 8: 1025, 9: 981}\n",
      "First 20 Labels: [6, 9, 9, 4, 1, 1, 2, 7, 8, 3, 4, 7, 7, 2, 9, 9, 9, 3, 2, 6]\n",
      "\n",
      "Example of Image 5:\n",
      "Image - Min Value: 0 Max Value: 252\n",
      "Image - Shape: (32, 32, 3)\n",
      "Label - Label Id: 1 Name: automobile\n"
     ]
    },
    {
     "data": {
      "image/png": "[encoded data removed]",
      "text/plain": [
       "<matplotlib.figure.Figure at 0x7f9a7c0ceac8>"
      ]
     },
     "metadata": {
      "image/png": {
       "height": 250,
       "width": 253
      }
     },
     "output_type": "display_data"
    }
   ],
   "source": [
    "%matplotlib inline\n",
    "%config InlineBackend.figure_format = 'retina'\n",
    "\n",
    "import helper\n",
    "import numpy as np\n",
    "\n",
    "# Explore the dataset\n",
    "batch_id = 1\n",
    "sample_id = 5\n",
    "helper.display_stats(cifar10_dataset_folder_path, batch_id, sample_id)"
   ]
  },
  {
   "cell_type": "markdown",
   "metadata": {
    "deletable": true,
    "editable": true
   },
   "source": [
    "## Implement Preprocess Functions\n",
    "### Normalize\n",
    "In the cell below, implement the `normalize` function to take in image data, `x`, and return it as a normalized Numpy array. The values should be in the range of 0 to 1, inclusive.  The return object should be the same shape as `x`."
   ]
  },
  {
   "cell_type": "code",
   "execution_count": 3,
   "metadata": {
    "collapsed": false,
    "deletable": true,
    "editable": true
   },
   "outputs": [
    {
     "name": "stdout",
     "output_type": "stream",
     "text": [
      "Tests Passed\n"
     ]
    }
   ],
   "source": [
    "def normalize(x):\n",
    "    \"\"\"\n",
    "    Normalize a list of sample image data in the range of 0 to 1\n",
    "    : x: List of image data.  The image shape is (32, 32, 3)\n",
    "    : return: Numpy array of normalize data\n",
    "    \"\"\"\n",
    "    # TODO: Implement Function\n",
    "    _min = np.min(x)\n",
    "    _max = np.max(x)\n",
    "    return (x-_min)/(_max-_min)\n",
    "\n",
    "\n",
    "\"\"\"\n",
    "DON'T MODIFY ANYTHING IN THIS CELL THAT IS BELOW THIS LINE\n",
    "\"\"\"\n",
    "tests.test_normalize(normalize)"
   ]
  },
  {
   "cell_type": "markdown",
   "metadata": {
    "deletable": true,
    "editable": true
   },
   "source": [
    "### One-hot encode\n",
    "Just like the previous code cell, you'll be implementing a function for preprocessing.  This time, you'll implement the `one_hot_encode` function. The input, `x`, are a list of labels.  Implement the function to return the list of labels as One-Hot encoded Numpy array.  The possible values for labels are 0 to 9. The one-hot encoding function should return the same encoding for each value between each call to `one_hot_encode`.  Make sure to save the map of encodings outside the function.\n",
    "\n",
    "Hint: Don't reinvent the wheel."
   ]
  },
  {
   "cell_type": "code",
   "execution_count": 4,
   "metadata": {
    "collapsed": false,
    "deletable": true,
    "editable": true
   },
   "outputs": [
    {
     "name": "stdout",
     "output_type": "stream",
     "text": [
      "Tests Passed\n"
     ]
    }
   ],
   "source": [
    "def one_hot_encode(x):\n",
    "    \"\"\"\n",
    "    One hot encode a list of sample labels. Return a one-hot encoded vector for each label.\n",
    "    : x: List of sample Labels\n",
    "    : return: Numpy array of one-hot encoded labels\n",
    "    \"\"\"\n",
    "    # TODO: Implement Function\n",
    "    onehot = np.zeros(shape=(len(x),10),dtype = np.int32)\n",
    "    for i in range(len(x)):\n",
    "        for j in range(10):\n",
    "            onehot[i,j] = int(x[i]==j)\n",
    "    return onehot\n",
    "\n",
    "\n",
    "\"\"\"\n",
    "DON'T MODIFY ANYTHING IN THIS CELL THAT IS BELOW THIS LINE\n",
    "\"\"\"\n",
    "tests.test_one_hot_encode(one_hot_encode)"
   ]
  },
  {
   "cell_type": "code",
   "execution_count": 5,
   "metadata": {
    "collapsed": false,
    "deletable": true,
    "editable": true
   },
   "outputs": [
    {
     "name": "stdout",
     "output_type": "stream",
     "text": [
      "Tests Passed\n"
     ]
    }
   ],
   "source": [
    "def one_hot_encode(x):\n",
    "    \"\"\"\n",
    "    One hot encode a list of sample labels. Return a one-hot encoded vector for each label.\n",
    "    : x: List of sample Labels\n",
    "    : return: Numpy array of one-hot encoded labels\n",
    "    \"\"\"\n",
    "    # TODO: Implement Function\n",
    "    return np.eye(10)[x]\n",
    "\n",
    "\n",
    "\"\"\"\n",
    "DON'T MODIFY ANYTHING IN THIS CELL THAT IS BELOW THIS LINE\n",
    "\"\"\"\n",
    "tests.test_one_hot_encode(one_hot_encode)"
   ]
  },
  {
   "cell_type": "code",
   "execution_count": 6,
   "metadata": {
    "collapsed": false,
    "deletable": true,
    "editable": true
   },
   "outputs": [
    {
     "data": {
      "text/plain": [
       "0"
      ]
     },
     "execution_count": 6,
     "metadata": {},
     "output_type": "execute_result"
    }
   ],
   "source": [
    "int(False)"
   ]
  },
  {
   "cell_type": "markdown",
   "metadata": {
    "deletable": true,
    "editable": true
   },
   "source": [
    "### Randomize Data\n",
    "As you saw from exploring the data above, the order of the samples are randomized.  It doesn't hurt to randomize it again, but you don't need to for this dataset."
   ]
  },
  {
   "cell_type": "markdown",
   "metadata": {
    "deletable": true,
    "editable": true
   },
   "source": [
    "## Preprocess all the data and save it\n",
    "Running the code cell below will preprocess all the CIFAR-10 data and save it to file. The code below also uses 10% of the training data for validation."
   ]
  },
  {
   "cell_type": "code",
   "execution_count": 8,
   "metadata": {
    "collapsed": false,
    "deletable": true,
    "editable": true
   },
   "outputs": [],
   "source": [
    "\"\"\"\n",
    "DON'T MODIFY ANYTHING IN THIS CELL\n",
    "\"\"\"\n",
    "# Preprocess Training, Validation, and Testing Data\n",
    "helper.preprocess_and_save_data(cifar10_dataset_folder_path, normalize, one_hot_encode)"
   ]
  },
  {
   "cell_type": "markdown",
   "metadata": {
    "deletable": true,
    "editable": true
   },
   "source": [
    "# Check Point\n",
    "This is your first checkpoint.  If you ever decide to come back to this notebook or have to restart the notebook, you can start from here.  The preprocessed data has been saved to disk."
   ]
  },
  {
   "cell_type": "code",
   "execution_count": 9,
   "metadata": {
    "collapsed": true,
    "deletable": true,
    "editable": true
   },
   "outputs": [],
   "source": [
    "\"\"\"\n",
    "DON'T MODIFY ANYTHING IN THIS CELL\n",
    "\"\"\"\n",
    "import pickle\n",
    "import problem_unittests as tests\n",
    "import helper\n",
    "\n",
    "# Load the Preprocessed Validation data\n",
    "valid_features, valid_labels = pickle.load(open('preprocess_validation.p', mode='rb'))"
   ]
  },
  {
   "cell_type": "markdown",
   "metadata": {
    "deletable": true,
    "editable": true
   },
   "source": [
    "## Build the network\n",
    "For the neural network, you'll build each layer into a function.  Most of the code you've seen has been outside of functions. To test your code more thoroughly, we require that you put each layer in a function.  This allows us to give you better feedback and test for simple mistakes using our unittests before you submit your project.\n",
    "\n",
    ">**Note:** If you're finding it hard to dedicate enough time for this course each week, we've provided a small shortcut to this part of the project. In the next couple of problems, you'll have the option to use classes from the [TensorFlow Layers](https://www.tensorflow.org/api_docs/python/tf/layers) or [TensorFlow Layers (contrib)](https://www.tensorflow.org/api_guides/python/contrib.layers) packages to build each layer, except the layers you build in the \"Convolutional and Max Pooling Layer\" section.  TF Layers is similar to Keras's and TFLearn's abstraction to layers, so it's easy to pickup.\n",
    "\n",
    ">However, if you would like to get the most out of this course, try to solve all the problems _without_ using anything from the TF Layers packages. You **can** still use classes from other packages that happen to have the same name as ones you find in TF Layers! For example, instead of using the TF Layers version of the `conv2d` class, [tf.layers.conv2d](https://www.tensorflow.org/api_docs/python/tf/layers/conv2d), you would want to use the TF Neural Network version of `conv2d`, [tf.nn.conv2d](https://www.tensorflow.org/api_docs/python/tf/nn/conv2d). \n",
    "\n",
    "Let's begin!\n",
    "\n",
    "### Input\n",
    "The neural network needs to read the image data, one-hot encoded labels, and dropout keep probability. Implement the following functions\n",
    "* Implement `neural_net_image_input`\n",
    " * Return a [TF Placeholder](https://www.tensorflow.org/api_docs/python/tf/placeholder)\n",
    " * Set the shape using `image_shape` with batch size set to `None`.\n",
    " * Name the TensorFlow placeholder \"x\" using the TensorFlow `name` parameter in the [TF Placeholder](https://www.tensorflow.org/api_docs/python/tf/placeholder).\n",
    "* Implement `neural_net_label_input`\n",
    " * Return a [TF Placeholder](https://www.tensorflow.org/api_docs/python/tf/placeholder)\n",
    " * Set the shape using `n_classes` with batch size set to `None`.\n",
    " * Name the TensorFlow placeholder \"y\" using the TensorFlow `name` parameter in the [TF Placeholder](https://www.tensorflow.org/api_docs/python/tf/placeholder).\n",
    "* Implement `neural_net_keep_prob_input`\n",
    " * Return a [TF Placeholder](https://www.tensorflow.org/api_docs/python/tf/placeholder) for dropout keep probability.\n",
    " * Name the TensorFlow placeholder \"keep_prob\" using the TensorFlow `name` parameter in the [TF Placeholder](https://www.tensorflow.org/api_docs/python/tf/placeholder).\n",
    "\n",
    "These names will be used at the end of the project to load your saved model.\n",
    "\n",
    "Note: `None` for shapes in TensorFlow allow for a dynamic size."
   ]
  },
  {
   "cell_type": "code",
   "execution_count": 10,
   "metadata": {
    "collapsed": false,
    "deletable": true,
    "editable": true
   },
   "outputs": [
    {
     "name": "stdout",
     "output_type": "stream",
     "text": [
      "Image Input Tests Passed.\n",
      "Label Input Tests Passed.\n",
      "Keep Prob Tests Passed.\n"
     ]
    }
   ],
   "source": [
    "import tensorflow as tf\n",
    "\n",
    "def neural_net_image_input(image_shape):\n",
    "    \"\"\"\n",
    "    Return a Tensor for a bach of image input\n",
    "    : image_shape: Shape of the images\n",
    "    : return: Tensor for image input.\n",
    "    \"\"\"\n",
    "    # TODO: Implement Function\n",
    "    \n",
    "    xx = tf.placeholder(tf.float32, shape=[None,image_shape[0],image_shape[1],image_shape[2]], name=\"x\")\n",
    "    return xx\n",
    "\n",
    "\n",
    "def neural_net_label_input(n_classes):\n",
    "    \"\"\"\n",
    "    Return a Tensor for a batch of label input\n",
    "    : n_classes: Number of classes\n",
    "    : return: Tensor for label input.\n",
    "    \"\"\"\n",
    "    # TODO: Implement Function\n",
    "    yy = tf.placeholder(tf.float32, shape=[None,n_classes], name=\"y\")\n",
    "    return yy\n",
    "\n",
    "\n",
    "def neural_net_keep_prob_input():\n",
    "    \"\"\"\n",
    "    Return a Tensor for keep probability\n",
    "    : return: Tensor for keep probability.\n",
    "    \"\"\"\n",
    "    # TODO: Implement Function\n",
    "    k = tf.placeholder(tf.float32, shape=(None), name=\"keep_prob\")\n",
    "    return k\n",
    "\n",
    "\n",
    "\"\"\"\n",
    "DON'T MODIFY ANYTHING IN THIS CELL THAT IS BELOW THIS LINE\n",
    "\"\"\"\n",
    "tf.reset_default_graph()\n",
    "tests.test_nn_image_inputs(neural_net_image_input)\n",
    "tests.test_nn_label_inputs(neural_net_label_input)\n",
    "tests.test_nn_keep_prob_inputs(neural_net_keep_prob_input)"
   ]
  },
  {
   "cell_type": "markdown",
   "metadata": {
    "deletable": true,
    "editable": true
   },
   "source": [
    "### Convolution and Max Pooling Layer\n",
    "Convolution layers have a lot of success with images. For this code cell, you should implement the function `conv2d_maxpool` to apply convolution then max pooling:\n",
    "* Create the weight and bias using `conv_ksize`, `conv_num_outputs` and the shape of `x_tensor`.\n",
    "* Apply a convolution to `x_tensor` using weight and `conv_strides`.\n",
    " * We recommend you use same padding, but you're welcome to use any padding.\n",
    "* Add bias\n",
    "* Add a nonlinear activation to the convolution.\n",
    "* Apply Max Pooling using `pool_ksize` and `pool_strides`.\n",
    " * We recommend you use same padding, but you're welcome to use any padding.\n",
    "\n",
    "**Note:** You **can't** use [TensorFlow Layers](https://www.tensorflow.org/api_docs/python/tf/layers) or [TensorFlow Layers (contrib)](https://www.tensorflow.org/api_guides/python/contrib.layers) for **this** layer, but you can still use TensorFlow's [Neural Network](https://www.tensorflow.org/api_docs/python/tf/nn) package. You may still use the shortcut option for all the **other** layers."
   ]
  },
  {
   "cell_type": "code",
   "execution_count": 45,
   "metadata": {
    "collapsed": false,
    "deletable": true,
    "editable": true
   },
   "outputs": [
    {
     "name": "stdout",
     "output_type": "stream",
     "text": [
      "Tests Passed\n"
     ]
    }
   ],
   "source": [
    "def conv2d_maxpool(x_tensor, conv_num_outputs, conv_ksize, conv_strides, pool_ksize, pool_strides):\n",
    "    \"\"\"\n",
    "    Apply convolution then max pooling to x_tensor\n",
    "    :param x_tensor: TensorFlow Tensor\n",
    "    :param conv_num_outputs: Number of outputs for the convolutional layer\n",
    "    :param conv_ksize: kernal size 2-D Tuple for the convolutional layer\n",
    "    :param conv_strides: Stride 2-D Tuple for convolution\n",
    "    :param pool_ksize: kernal size 2-D Tuple for pool\n",
    "    :param pool_strides: Stride 2-D Tuple for pool\n",
    "    : return: A tensor that represents convolution and max pooling of x_tensor\n",
    "    \"\"\"\n",
    "    # TODO: Implement Function\n",
    "    weight = tf.Variable(tf.truncated_normal([*conv_ksize, int(x_tensor.shape[3]), conv_num_outputs],stddev=0.01))\n",
    "    bias = tf.Variable(tf.zeros(conv_num_outputs))\n",
    "    conv_layer = tf.nn.conv2d(x_tensor, weight, strides=[1,*conv_strides,1], padding='SAME')\n",
    "    conv_layer = tf.nn.bias_add(conv_layer, bias)\n",
    "    conv_layer = tf.nn.relu(conv_layer)    \n",
    "    conv_layer = tf.nn.max_pool(conv_layer, ksize=[1,*pool_strides,1], strides=[1,*pool_strides,1], padding='SAME')\n",
    "    \n",
    "    \n",
    "    return conv_layer\n",
    "\n",
    "\n",
    "\n",
    "\n",
    "\"\"\"\n",
    "DON'T MODIFY ANYTHING IN THIS CELL THAT IS BELOW THIS LINE\n",
    "\"\"\"\n",
    "tests.test_con_pool(conv2d_maxpool)"
   ]
  },
  {
   "cell_type": "markdown",
   "metadata": {
    "deletable": true,
    "editable": true
   },
   "source": [
    "### Flatten Layer\n",
    "Implement the `flatten` function to change the dimension of `x_tensor` from a 4-D tensor to a 2-D tensor.  The output should be the shape (*Batch Size*, *Flattened Image Size*). Shortcut option: you can use classes from the [TensorFlow Layers](https://www.tensorflow.org/api_docs/python/tf/layers) or [TensorFlow Layers (contrib)](https://www.tensorflow.org/api_guides/python/contrib.layers) packages for this layer. For more of a challenge, only use other TensorFlow packages."
   ]
  },
  {
   "cell_type": "code",
   "execution_count": 12,
   "metadata": {
    "collapsed": false,
    "deletable": true,
    "editable": true
   },
   "outputs": [
    {
     "name": "stdout",
     "output_type": "stream",
     "text": [
      "Tests Passed\n"
     ]
    }
   ],
   "source": [
    "def flatten(x_tensor):\n",
    "    \"\"\"\n",
    "    Flatten x_tensor to (Batch Size, Flattened Image Size)\n",
    "    : x_tensor: A tensor of size (Batch Size, ...), where ... are the image dimensions.\n",
    "    : return: A tensor of size (Batch Size, Flattened Image Size).\n",
    "    \"\"\"\n",
    "    # TODO: Implement Function\n",
    "    flattens = x_tensor.shape[1]*x_tensor.shape[2]*x_tensor.shape[3]\n",
    "    return tf.reshape(x_tensor, [-1, int(flattens)])\n",
    "\n",
    "\"\"\"\n",
    "DON'T MODIFY ANYTHING IN THIS CELL THAT IS BELOW THIS LINE\n",
    "\"\"\"\n",
    "tests.test_flatten(flatten)"
   ]
  },
  {
   "cell_type": "markdown",
   "metadata": {
    "deletable": true,
    "editable": true
   },
   "source": [
    "### Fully-Connected Layer\n",
    "Implement the `fully_conn` function to apply a fully connected layer to `x_tensor` with the shape (*Batch Size*, *num_outputs*). Shortcut option: you can use classes from the [TensorFlow Layers](https://www.tensorflow.org/api_docs/python/tf/layers) or [TensorFlow Layers (contrib)](https://www.tensorflow.org/api_guides/python/contrib.layers) packages for this layer. For more of a challenge, only use other TensorFlow packages."
   ]
  },
  {
   "cell_type": "code",
   "execution_count": 46,
   "metadata": {
    "collapsed": false,
    "deletable": true,
    "editable": true
   },
   "outputs": [
    {
     "name": "stdout",
     "output_type": "stream",
     "text": [
      "Tests Passed\n"
     ]
    }
   ],
   "source": [
    "def fully_conn(x_tensor, num_outputs):\n",
    "    \"\"\"\n",
    "    Apply a fully connected layer to x_tensor using weight and bias\n",
    "    : x_tensor: A 2-D tensor where the first dimension is batch size.\n",
    "    : num_outputs: The number of output that the new tensor should be.\n",
    "    : return: A 2-D tensor where the second dimension is num_outputs.\n",
    "    \"\"\"\n",
    "    # TODO: Implement Function\n",
    "    #batch_size, *shape = x_tensor.shape\n",
    "    weight = tf.Variable(tf.truncated_normal([int(x_tensor.shape[1]), num_outputs],stddev=0.01))\n",
    "    bias = tf.Variable(tf.zeros([num_outputs]))\n",
    "    \n",
    "    full_layer = tf.nn.relu(tf.add(tf.matmul(x_tensor,weight),bias))\n",
    "\n",
    "    return full_layer\n",
    "\n",
    "\n",
    "\"\"\"\n",
    "DON'T MODIFY ANYTHING IN THIS CELL THAT IS BELOW THIS LINE\n",
    "\"\"\"\n",
    "tests.test_fully_conn(fully_conn)"
   ]
  },
  {
   "cell_type": "markdown",
   "metadata": {
    "deletable": true,
    "editable": true
   },
   "source": [
    "### Output Layer\n",
    "Implement the `output` function to apply a fully connected layer to `x_tensor` with the shape (*Batch Size*, *num_outputs*). Shortcut option: you can use classes from the [TensorFlow Layers](https://www.tensorflow.org/api_docs/python/tf/layers) or [TensorFlow Layers (contrib)](https://www.tensorflow.org/api_guides/python/contrib.layers) packages for this layer. For more of a challenge, only use other TensorFlow packages.\n",
    "\n",
    "**Note:** Activation, softmax, or cross entropy should **not** be applied to this."
   ]
  },
  {
   "cell_type": "code",
   "execution_count": 14,
   "metadata": {
    "collapsed": false,
    "deletable": true,
    "editable": true
   },
   "outputs": [
    {
     "name": "stdout",
     "output_type": "stream",
     "text": [
      "Tests Passed\n"
     ]
    }
   ],
   "source": [
    "def output(x_tensor, num_outputs):\n",
    "    \"\"\"\n",
    "    Apply a output layer to x_tensor using weight and bias\n",
    "    : x_tensor: A 2-D tensor where the first dimension is batch size.\n",
    "    : num_outputs: The number of output that the new tensor should be.\n",
    "    : return: A 2-D tensor where the second dimension is num_outputs.\n",
    "    \"\"\"\n",
    "    # TODO: Implement Function\n",
    "    weight = tf.Variable(tf.truncated_normal([int(x_tensor.shape[1]), num_outputs]))\n",
    "    bias = tf.Variable(tf.zeros([num_outputs]))\n",
    "    \n",
    "    output_layer = tf.add(tf.matmul(x_tensor,weight),bias)\n",
    "\n",
    "    return output_layer\n",
    "\n",
    "\n",
    "\"\"\"\n",
    "DON'T MODIFY ANYTHING IN THIS CELL THAT IS BELOW THIS LINE\n",
    "\"\"\"\n",
    "tests.test_output(output)"
   ]
  },
  {
   "cell_type": "markdown",
   "metadata": {
    "deletable": true,
    "editable": true
   },
   "source": [
    "### Create Convolutional Model\n",
    "Implement the function `conv_net` to create a convolutional neural network model. The function takes in a batch of images, `x`, and outputs logits.  Use the layers you created above to create this model:\n",
    "\n",
    "* Apply 1, 2, or 3 Convolution and Max Pool layers\n",
    "* Apply a Flatten Layer\n",
    "* Apply 1, 2, or 3 Fully Connected Layers\n",
    "* Apply an Output Layer\n",
    "* Return the output\n",
    "* Apply [TensorFlow's Dropout](https://www.tensorflow.org/api_docs/python/tf/nn/dropout) to one or more layers in the model using `keep_prob`. "
   ]
  },
  {
   "cell_type": "code",
   "execution_count": 53,
   "metadata": {
    "collapsed": false,
    "deletable": true,
    "editable": true
   },
   "outputs": [
    {
     "name": "stdout",
     "output_type": "stream",
     "text": [
      "Neural Network Built!\n"
     ]
    }
   ],
   "source": [
    "def conv_net(x, keep_prob):\n",
    "    \"\"\"\n",
    "    Create a convolutional neural network model\n",
    "    : x: Placeholder tensor that holds image data.\n",
    "    : keep_prob: Placeholder tensor that hold dropout keep probability.\n",
    "    : return: Tensor that represents logits\n",
    "    \"\"\"\n",
    "\n",
    "    # TODO: Apply 1, 2, or 3 Convolution and Max Pool layers\n",
    "    #    Play around with different number of outputs, kernel size and stride\n",
    "    # Function Definition from Above:\n",
    "    #    conv2d_maxpool(x_tensor, conv_num_outputs, conv_ksize, conv_strides, pool_ksize, pool_strides)\n",
    "    x1 = x\n",
    "    c1 = conv2d_maxpool(x1, 32, (3,3), (2,2), (2,2), (2,2))\n",
    "    c2 = conv2d_maxpool(c1, 32, (3,3), (2,2), (2,2), (2,2))\n",
    "    c3 = conv2d_maxpool(c2, 64, (3,3), (2,2), (2,2), (2,2))\n",
    "\n",
    "    # TODO: Apply a Flatten Layer\n",
    "    # Function Definition from Above:\n",
    "    #   flatten(x_tensor)\n",
    "    fl1 = flatten(c3)\n",
    "\n",
    "    # TODO: Apply 1, 2, or 3 Fully Connected Layers\n",
    "    #    Play around with different number of outputs\n",
    "    # Function Definition from Above:\n",
    "    #   fully_conn(x_tensor, num_outputs)\n",
    "    #fu1 = fully_conn(fl1, 512)\n",
    "    #dp1 = tf.nn.dropout(fu1,keep_prob)\n",
    "    #fu2 = fully_conn(dp1, 128)\n",
    "    #dp2 = tf.nn.dropout(fu2,keep_prob)\n",
    "    \n",
    "    \n",
    "    f1 = fully_conn(fl1, 128)\n",
    "    dp1 = tf.nn.dropout(f1,keep_prob)\n",
    "    f2 = fully_conn(dp1, 64)\n",
    "    dp2 = tf.nn.dropout(f2,keep_prob)\n",
    "    f3 = fully_conn(dp2, 32)\n",
    "    #dp2 = tf.nn.dropout(f1,keep_prob)\n",
    "    # TODO: Apply an Output Layer\n",
    "    #    Set this to the number of classes\n",
    "    # Function Definition from Above:\n",
    "    #   output(x_tensor, num_outputs)\n",
    "    ou1 = output(f3, 10)\n",
    "    \n",
    "    # TODO: return output\n",
    "    return ou1\n",
    "\n",
    "\n",
    "\n",
    "\n",
    "\n",
    "\"\"\"\n",
    "DON'T MODIFY ANYTHING IN THIS CELL THAT IS BELOW THIS LINE\n",
    "\"\"\"\n",
    "\n",
    "##############################\n",
    "## Build the Neural Network ##\n",
    "##############################\n",
    "\n",
    "# Remove previous weights, bias, inputs, etc..\n",
    "tf.reset_default_graph()\n",
    "\n",
    "# Inputs\n",
    "x = neural_net_image_input((32, 32, 3))\n",
    "y = neural_net_label_input(10)\n",
    "keep_prob = neural_net_keep_prob_input()\n",
    "\n",
    "# Model\n",
    "logits = conv_net(x, keep_prob)\n",
    "\n",
    "# Name logits Tensor, so that is can be loaded from disk after training\n",
    "logits = tf.identity(logits, name='logits')\n",
    "\n",
    "# Loss and Optimizer\n",
    "cost = tf.reduce_mean(tf.nn.softmax_cross_entropy_with_logits(logits=logits, labels=y))\n",
    "optimizer = tf.train.AdamOptimizer().minimize(cost)\n",
    "\n",
    "# Accuracy\n",
    "correct_pred = tf.equal(tf.argmax(logits, 1), tf.argmax(y, 1))\n",
    "accuracy = tf.reduce_mean(tf.cast(correct_pred, tf.float32), name='accuracy')\n",
    "\n",
    "tests.test_conv_net(conv_net)"
   ]
  },
  {
   "cell_type": "markdown",
   "metadata": {
    "deletable": true,
    "editable": true
   },
   "source": [
    "## Train the Neural Network\n",
    "### Single Optimization\n",
    "Implement the function `train_neural_network` to do a single optimization.  The optimization should use `optimizer` to optimize in `session` with a `feed_dict` of the following:\n",
    "* `x` for image input\n",
    "* `y` for labels\n",
    "* `keep_prob` for keep probability for dropout\n",
    "\n",
    "This function will be called for each batch, so `tf.global_variables_initializer()` has already been called.\n",
    "\n",
    "Note: Nothing needs to be returned. This function is only optimizing the neural network."
   ]
  },
  {
   "cell_type": "code",
   "execution_count": 16,
   "metadata": {
    "collapsed": false,
    "deletable": true,
    "editable": true
   },
   "outputs": [
    {
     "name": "stdout",
     "output_type": "stream",
     "text": [
      "Tests Passed\n"
     ]
    }
   ],
   "source": [
    "def train_neural_network(session, optimizer, keep_probability, feature_batch, label_batch):\n",
    "    \"\"\"\n",
    "    Optimize the session on a batch of images and labels\n",
    "    : session: Current TensorFlow session\n",
    "    : optimizer: TensorFlow optimizer function\n",
    "    : keep_probability: keep probability\n",
    "    : feature_batch: Batch of Numpy image data\n",
    "    : label_batch: Batch of Numpy label data\n",
    "    \"\"\"\n",
    "    # TODO: Implement Function\n",
    "    session.run(optimizer, feed_dict={\n",
    "        x: feature_batch,\n",
    "        y: label_batch,\n",
    "        keep_prob: keep_probability\n",
    "    })\n",
    "\"\"\"\n",
    "DON'T MODIFY ANYTHING IN THIS CELL THAT IS BELOW THIS LINE\n",
    "\"\"\"\n",
    "tests.test_train_nn(train_neural_network)"
   ]
  },
  {
   "cell_type": "markdown",
   "metadata": {
    "deletable": true,
    "editable": true
   },
   "source": [
    "### Show Stats\n",
    "Implement the function `print_stats` to print loss and validation accuracy.  Use the global variables `valid_features` and `valid_labels` to calculate validation accuracy.  Use a keep probability of `1.0` to calculate the loss and validation accuracy."
   ]
  },
  {
   "cell_type": "code",
   "execution_count": 17,
   "metadata": {
    "collapsed": false,
    "deletable": true,
    "editable": true
   },
   "outputs": [],
   "source": [
    "def print_stats(session, feature_batch, label_batch, cost, accuracy):\n",
    "    \"\"\"\n",
    "    Print information about loss and validation accuracy\n",
    "    : session: Current TensorFlow session\n",
    "    : feature_batch: Batch of Numpy image data\n",
    "    : label_batch: Batch of Numpy label data\n",
    "    : cost: TensorFlow cost function\n",
    "    : accuracy: TensorFlow accuracy function\n",
    "    \"\"\"\n",
    "    # TODO: Implement Function\n",
    "    loss = session.run(cost, feed_dict={\n",
    "        x: feature_batch,\n",
    "        y: label_batch,\n",
    "        keep_prob: 1\n",
    "    })\n",
    "    theaccuracy = session.run(accuracy, feed_dict={\n",
    "        x: valid_features,\n",
    "        y: valid_labels,\n",
    "        keep_prob: 1\n",
    "    })\n",
    "    print(\"Loss \", loss, \", Accurary\", theaccuracy)"
   ]
  },
  {
   "cell_type": "markdown",
   "metadata": {
    "deletable": true,
    "editable": true
   },
   "source": [
    "### Hyperparameters\n",
    "Tune the following parameters:\n",
    "* Set `epochs` to the number of iterations until the network stops learning or start overfitting\n",
    "* Set `batch_size` to the highest number that your machine has memory for.  Most people set them to common sizes of memory:\n",
    " * 64\n",
    " * 128\n",
    " * 256\n",
    " * ...\n",
    "* Set `keep_probability` to the probability of keeping a node using dropout"
   ]
  },
  {
   "cell_type": "code",
   "execution_count": 56,
   "metadata": {
    "collapsed": true,
    "deletable": true,
    "editable": true
   },
   "outputs": [],
   "source": [
    "# TODO: Tune Parameters\n",
    "epochs = 30\n",
    "batch_size = 128\n",
    "keep_probability = 0.75"
   ]
  },
  {
   "cell_type": "markdown",
   "metadata": {
    "deletable": true,
    "editable": true
   },
   "source": [
    "### Train on a Single CIFAR-10 Batch\n",
    "Instead of training the neural network on all the CIFAR-10 batches of data, let's use a single batch. This should save time while you iterate on the model to get a better accuracy.  Once the final validation accuracy is 50% or greater, run the model on all the data in the next section."
   ]
  },
  {
   "cell_type": "code",
   "execution_count": 57,
   "metadata": {
    "collapsed": false,
    "deletable": true,
    "editable": true,
    "scrolled": true
   },
   "outputs": [
    {
     "name": "stdout",
     "output_type": "stream",
     "text": [
      "Checking the Training on a Single Batch...\n",
      "Epoch  1, CIFAR-10 Batch 1:  Loss  2.30324 , Accurary 0.0998\n",
      "Epoch  2, CIFAR-10 Batch 1:  Loss  2.31112 , Accurary 0.1314\n",
      "Epoch  3, CIFAR-10 Batch 1:  Loss  2.26674 , Accurary 0.182\n",
      "Epoch  4, CIFAR-10 Batch 1:  Loss  2.26511 , Accurary 0.2096\n",
      "Epoch  5, CIFAR-10 Batch 1:  Loss  2.20761 , Accurary 0.2196\n",
      "Epoch  6, CIFAR-10 Batch 1:  Loss  2.17526 , Accurary 0.2154\n",
      "Epoch  7, CIFAR-10 Batch 1:  Loss  2.17273 , Accurary 0.2456\n",
      "Epoch  8, CIFAR-10 Batch 1:  Loss  2.14667 , Accurary 0.252\n",
      "Epoch  9, CIFAR-10 Batch 1:  Loss  2.13647 , Accurary 0.263\n",
      "Epoch 10, CIFAR-10 Batch 1:  Loss  2.13576 , Accurary 0.2646\n",
      "Epoch 11, CIFAR-10 Batch 1:  Loss  2.09546 , Accurary 0.2758\n",
      "Epoch 12, CIFAR-10 Batch 1:  Loss  2.06103 , Accurary 0.2806\n",
      "Epoch 13, CIFAR-10 Batch 1:  Loss  2.04723 , Accurary 0.2918\n",
      "Epoch 14, CIFAR-10 Batch 1:  Loss  2.05353 , Accurary 0.2948\n",
      "Epoch 15, CIFAR-10 Batch 1:  Loss  2.04714 , Accurary 0.303\n",
      "Epoch 16, CIFAR-10 Batch 1:  Loss  2.00023 , Accurary 0.319\n",
      "Epoch 17, CIFAR-10 Batch 1:  Loss  1.95929 , Accurary 0.3296\n",
      "Epoch 18, CIFAR-10 Batch 1:  Loss  1.94758 , Accurary 0.3498\n",
      "Epoch 19, CIFAR-10 Batch 1:  Loss  1.89602 , Accurary 0.3544\n",
      "Epoch 20, CIFAR-10 Batch 1:  Loss  1.87991 , Accurary 0.3662\n",
      "Epoch 21, CIFAR-10 Batch 1:  Loss  1.86945 , Accurary 0.3662\n",
      "Epoch 22, CIFAR-10 Batch 1:  Loss  1.82334 , Accurary 0.3674\n",
      "Epoch 23, CIFAR-10 Batch 1:  Loss  1.84041 , Accurary 0.3714\n",
      "Epoch 24, CIFAR-10 Batch 1:  Loss  1.8115 , Accurary 0.3706\n",
      "Epoch 25, CIFAR-10 Batch 1:  Loss  1.81822 , Accurary 0.375\n",
      "Epoch 26, CIFAR-10 Batch 1:  Loss  1.78898 , Accurary 0.3706\n",
      "Epoch 27, CIFAR-10 Batch 1:  Loss  1.77922 , Accurary 0.374\n",
      "Epoch 28, CIFAR-10 Batch 1:  Loss  1.77742 , Accurary 0.3766\n",
      "Epoch 29, CIFAR-10 Batch 1:  Loss  1.76895 , Accurary 0.3752\n",
      "Epoch 30, CIFAR-10 Batch 1:  Loss  1.7784 , Accurary 0.378\n"
     ]
    }
   ],
   "source": [
    "\"\"\"\n",
    "DON'T MODIFY ANYTHING IN THIS CELL\n",
    "\"\"\"\n",
    "print('Checking the Training on a Single Batch...')\n",
    "with tf.Session() as sess:\n",
    "    # Initializing the variables\n",
    "    \n",
    "    sess.run(tf.global_variables_initializer())\n",
    "    # Training cycle\n",
    "    for epoch in range(epochs):\n",
    "        batch_i = 1\n",
    "        for batch_features, batch_labels in helper.load_preprocess_training_batch(batch_i, batch_size):\n",
    "            train_neural_network(sess, optimizer, keep_probability, batch_features, batch_labels)\n",
    "        print('Epoch {:>2}, CIFAR-10 Batch {}:  '.format(epoch + 1, batch_i), end='')\n",
    "        print_stats(sess, batch_features, batch_labels, cost, accuracy)"
   ]
  },
  {
   "cell_type": "markdown",
   "metadata": {
    "deletable": true,
    "editable": true
   },
   "source": [
    "### Fully Train the Model\n",
    "Now that you got a good accuracy with a single CIFAR-10 batch, try it with all five batches."
   ]
  },
  {
   "cell_type": "code",
   "execution_count": 61,
   "metadata": {
    "collapsed": false,
    "deletable": true,
    "editable": true,
    "scrolled": true
   },
   "outputs": [
    {
     "name": "stdout",
     "output_type": "stream",
     "text": [
      "Training...\n",
      "Epoch  1, CIFAR-10 Batch 1:  Loss  2.30341 , Accurary 0.105\n",
      "Epoch  1, CIFAR-10 Batch 2:  Loss  2.30461 , Accurary 0.1034\n",
      "Epoch  1, CIFAR-10 Batch 3:  Loss  2.18329 , Accurary 0.171\n",
      "Epoch  1, CIFAR-10 Batch 4:  Loss  2.12054 , Accurary 0.1824\n",
      "Epoch  1, CIFAR-10 Batch 5:  Loss  2.12146 , Accurary 0.2034\n",
      "Epoch  2, CIFAR-10 Batch 1:  Loss  2.30223 , Accurary 0.1878\n",
      "Epoch  2, CIFAR-10 Batch 2:  Loss  2.07365 , Accurary 0.2156\n",
      "Epoch  2, CIFAR-10 Batch 3:  Loss  1.79805 , Accurary 0.2126\n",
      "Epoch  2, CIFAR-10 Batch 4:  Loss  1.84809 , Accurary 0.2134\n",
      "Epoch  2, CIFAR-10 Batch 5:  Loss  1.93625 , Accurary 0.2328\n",
      "Epoch  3, CIFAR-10 Batch 1:  Loss  2.12354 , Accurary 0.2186\n",
      "Epoch  3, CIFAR-10 Batch 2:  Loss  2.06581 , Accurary 0.266\n",
      "Epoch  3, CIFAR-10 Batch 3:  Loss  1.70696 , Accurary 0.2694\n",
      "Epoch  3, CIFAR-10 Batch 4:  Loss  1.72807 , Accurary 0.2788\n",
      "Epoch  3, CIFAR-10 Batch 5:  Loss  1.78978 , Accurary 0.2942\n",
      "Epoch  4, CIFAR-10 Batch 1:  Loss  1.94065 , Accurary 0.3078\n",
      "Epoch  4, CIFAR-10 Batch 2:  Loss  1.9342 , Accurary 0.3114\n",
      "Epoch  4, CIFAR-10 Batch 3:  Loss  1.5737 , Accurary 0.3054\n",
      "Epoch  4, CIFAR-10 Batch 4:  Loss  1.6345 , Accurary 0.3178\n",
      "Epoch  4, CIFAR-10 Batch 5:  Loss  1.70472 , Accurary 0.329\n",
      "Epoch  5, CIFAR-10 Batch 1:  Loss  1.88552 , Accurary 0.3472\n",
      "Epoch  5, CIFAR-10 Batch 2:  Loss  1.87813 , Accurary 0.3384\n",
      "Epoch  5, CIFAR-10 Batch 3:  Loss  1.41454 , Accurary 0.3374\n",
      "Epoch  5, CIFAR-10 Batch 4:  Loss  1.62011 , Accurary 0.3526\n",
      "Epoch  5, CIFAR-10 Batch 5:  Loss  1.6788 , Accurary 0.351\n",
      "Epoch  6, CIFAR-10 Batch 1:  Loss  1.70092 , Accurary 0.366\n",
      "Epoch  6, CIFAR-10 Batch 2:  Loss  1.83317 , Accurary 0.3726\n",
      "Epoch  6, CIFAR-10 Batch 3:  Loss  1.32713 , Accurary 0.3474\n",
      "Epoch  6, CIFAR-10 Batch 4:  Loss  1.56416 , Accurary 0.3732\n",
      "Epoch  6, CIFAR-10 Batch 5:  Loss  1.59817 , Accurary 0.371\n",
      "Epoch  7, CIFAR-10 Batch 1:  Loss  1.67445 , Accurary 0.3808\n",
      "Epoch  7, CIFAR-10 Batch 2:  Loss  1.77508 , Accurary 0.3832\n",
      "Epoch  7, CIFAR-10 Batch 3:  Loss  1.27944 , Accurary 0.3524\n",
      "Epoch  7, CIFAR-10 Batch 4:  Loss  1.54812 , Accurary 0.3898\n",
      "Epoch  7, CIFAR-10 Batch 5:  Loss  1.5866 , Accurary 0.393\n",
      "Epoch  8, CIFAR-10 Batch 1:  Loss  1.57558 , Accurary 0.3888\n",
      "Epoch  8, CIFAR-10 Batch 2:  Loss  1.68672 , Accurary 0.3804\n",
      "Epoch  8, CIFAR-10 Batch 3:  Loss  1.2245 , Accurary 0.371\n",
      "Epoch  8, CIFAR-10 Batch 4:  Loss  1.50613 , Accurary 0.3988\n",
      "Epoch  8, CIFAR-10 Batch 5:  Loss  1.55251 , Accurary 0.403\n",
      "Epoch  9, CIFAR-10 Batch 1:  Loss  1.55739 , Accurary 0.4004\n",
      "Epoch  9, CIFAR-10 Batch 2:  Loss  1.67435 , Accurary 0.3952\n",
      "Epoch  9, CIFAR-10 Batch 3:  Loss  1.21031 , Accurary 0.3882\n",
      "Epoch  9, CIFAR-10 Batch 4:  Loss  1.47221 , Accurary 0.409\n",
      "Epoch  9, CIFAR-10 Batch 5:  Loss  1.55999 , Accurary 0.4098\n",
      "Epoch 10, CIFAR-10 Batch 1:  Loss  1.54564 , Accurary 0.4032\n",
      "Epoch 10, CIFAR-10 Batch 2:  Loss  1.66312 , Accurary 0.413\n",
      "Epoch 10, CIFAR-10 Batch 3:  Loss  1.18565 , Accurary 0.3968\n",
      "Epoch 10, CIFAR-10 Batch 4:  Loss  1.45345 , Accurary 0.4256\n",
      "Epoch 10, CIFAR-10 Batch 5:  Loss  1.55435 , Accurary 0.4154\n",
      "Epoch 11, CIFAR-10 Batch 1:  Loss  1.50277 , Accurary 0.4174\n",
      "Epoch 11, CIFAR-10 Batch 2:  Loss  1.65186 , Accurary 0.4232\n",
      "Epoch 11, CIFAR-10 Batch 3:  Loss  1.15609 , Accurary 0.41\n",
      "Epoch 11, CIFAR-10 Batch 4:  Loss  1.4145 , Accurary 0.4298\n",
      "Epoch 11, CIFAR-10 Batch 5:  Loss  1.54319 , Accurary 0.4232\n",
      "Epoch 12, CIFAR-10 Batch 1:  Loss  1.46977 , Accurary 0.4304\n",
      "Epoch 12, CIFAR-10 Batch 2:  Loss  1.54565 , Accurary 0.4368\n",
      "Epoch 12, CIFAR-10 Batch 3:  Loss  1.11958 , Accurary 0.4332\n",
      "Epoch 12, CIFAR-10 Batch 4:  Loss  1.40962 , Accurary 0.439\n",
      "Epoch 12, CIFAR-10 Batch 5:  Loss  1.50464 , Accurary 0.4436\n",
      "Epoch 13, CIFAR-10 Batch 1:  Loss  1.4575 , Accurary 0.4432\n",
      "Epoch 13, CIFAR-10 Batch 2:  Loss  1.57828 , Accurary 0.4474\n",
      "Epoch 13, CIFAR-10 Batch 3:  Loss  1.11084 , Accurary 0.4374\n",
      "Epoch 13, CIFAR-10 Batch 4:  Loss  1.37919 , Accurary 0.4574\n",
      "Epoch 13, CIFAR-10 Batch 5:  Loss  1.49986 , Accurary 0.4564\n",
      "Epoch 14, CIFAR-10 Batch 1:  Loss  1.46589 , Accurary 0.4608\n",
      "Epoch 14, CIFAR-10 Batch 2:  Loss  1.59265 , Accurary 0.459\n",
      "Epoch 14, CIFAR-10 Batch 3:  Loss  1.10439 , Accurary 0.4642\n",
      "Epoch 14, CIFAR-10 Batch 4:  Loss  1.38258 , Accurary 0.4678\n",
      "Epoch 14, CIFAR-10 Batch 5:  Loss  1.50689 , Accurary 0.4594\n",
      "Epoch 15, CIFAR-10 Batch 1:  Loss  1.4604 , Accurary 0.4756\n",
      "Epoch 15, CIFAR-10 Batch 2:  Loss  1.61724 , Accurary 0.4652\n",
      "Epoch 15, CIFAR-10 Batch 3:  Loss  1.08048 , Accurary 0.4636\n",
      "Epoch 15, CIFAR-10 Batch 4:  Loss  1.38124 , Accurary 0.475\n",
      "Epoch 15, CIFAR-10 Batch 5:  Loss  1.50947 , Accurary 0.4676\n",
      "Epoch 16, CIFAR-10 Batch 1:  Loss  1.43872 , Accurary 0.4798\n",
      "Epoch 16, CIFAR-10 Batch 2:  Loss  1.52634 , Accurary 0.48\n",
      "Epoch 16, CIFAR-10 Batch 3:  Loss  1.0439 , Accurary 0.476\n",
      "Epoch 16, CIFAR-10 Batch 4:  Loss  1.3513 , Accurary 0.4814\n",
      "Epoch 16, CIFAR-10 Batch 5:  Loss  1.51118 , Accurary 0.4664\n",
      "Epoch 17, CIFAR-10 Batch 1:  Loss  1.40031 , Accurary 0.4866\n",
      "Epoch 17, CIFAR-10 Batch 2:  Loss  1.47757 , Accurary 0.4914\n",
      "Epoch 17, CIFAR-10 Batch 3:  Loss  1.0179 , Accurary 0.4768\n",
      "Epoch 17, CIFAR-10 Batch 4:  Loss  1.31246 , Accurary 0.4892\n",
      "Epoch 17, CIFAR-10 Batch 5:  Loss  1.47077 , Accurary 0.4848\n",
      "Epoch 18, CIFAR-10 Batch 1:  Loss  1.37652 , Accurary 0.4998\n",
      "Epoch 18, CIFAR-10 Batch 2:  Loss  1.54175 , Accurary 0.5042\n",
      "Epoch 18, CIFAR-10 Batch 3:  Loss  1.01162 , Accurary 0.4994\n",
      "Epoch 18, CIFAR-10 Batch 4:  Loss  1.29574 , Accurary 0.4962\n",
      "Epoch 18, CIFAR-10 Batch 5:  Loss  1.46774 , Accurary 0.4906\n",
      "Epoch 19, CIFAR-10 Batch 1:  Loss  1.34106 , Accurary 0.5054\n",
      "Epoch 19, CIFAR-10 Batch 2:  Loss  1.52405 , Accurary 0.5122\n",
      "Epoch 19, CIFAR-10 Batch 3:  Loss  1.00378 , Accurary 0.503\n",
      "Epoch 19, CIFAR-10 Batch 4:  Loss  1.27019 , Accurary 0.5094\n",
      "Epoch 19, CIFAR-10 Batch 5:  Loss  1.38905 , Accurary 0.4928\n",
      "Epoch 20, CIFAR-10 Batch 1:  Loss  1.32275 , Accurary 0.5148\n",
      "Epoch 20, CIFAR-10 Batch 2:  Loss  1.47748 , Accurary 0.5152\n",
      "Epoch 20, CIFAR-10 Batch 3:  Loss  1.05369 , Accurary 0.4928\n",
      "Epoch 20, CIFAR-10 Batch 4:  Loss  1.2351 , Accurary 0.5164\n",
      "Epoch 20, CIFAR-10 Batch 5:  Loss  1.38619 , Accurary 0.5032\n",
      "Epoch 21, CIFAR-10 Batch 1:  Loss  1.28421 , Accurary 0.519\n",
      "Epoch 21, CIFAR-10 Batch 2:  Loss  1.43972 , Accurary 0.5184\n",
      "Epoch 21, CIFAR-10 Batch 3:  Loss  1.0174 , Accurary 0.5144\n",
      "Epoch 21, CIFAR-10 Batch 4:  Loss  1.22238 , Accurary 0.5196\n",
      "Epoch 21, CIFAR-10 Batch 5:  Loss  1.3773 , Accurary 0.4844\n",
      "Epoch 22, CIFAR-10 Batch 1:  Loss  1.27717 , Accurary 0.5206\n",
      "Epoch 22, CIFAR-10 Batch 2:  Loss  1.36736 , Accurary 0.5242\n",
      "Epoch 22, CIFAR-10 Batch 3:  Loss  1.00304 , Accurary 0.5042\n",
      "Epoch 22, CIFAR-10 Batch 4:  Loss  1.20575 , Accurary 0.5226\n",
      "Epoch 22, CIFAR-10 Batch 5:  Loss  1.34596 , Accurary 0.5084\n",
      "Epoch 23, CIFAR-10 Batch 1:  Loss  1.24853 , Accurary 0.5248\n",
      "Epoch 23, CIFAR-10 Batch 2:  Loss  1.40586 , Accurary 0.5264\n",
      "Epoch 23, CIFAR-10 Batch 3:  Loss  0.935008 , Accurary 0.5186\n",
      "Epoch 23, CIFAR-10 Batch 4:  Loss  1.17005 , Accurary 0.5266\n",
      "Epoch 23, CIFAR-10 Batch 5:  Loss  1.30237 , Accurary 0.5\n",
      "Epoch 24, CIFAR-10 Batch 1:  Loss  1.19586 , Accurary 0.5348\n",
      "Epoch 24, CIFAR-10 Batch 2:  Loss  1.40931 , Accurary 0.5342\n",
      "Epoch 24, CIFAR-10 Batch 3:  Loss  0.963342 , Accurary 0.5082\n",
      "Epoch 24, CIFAR-10 Batch 4:  Loss  1.18775 , Accurary 0.5246\n",
      "Epoch 24, CIFAR-10 Batch 5:  Loss  1.2598 , Accurary 0.5234\n",
      "Epoch 25, CIFAR-10 Batch 1:  Loss  1.21435 , Accurary 0.5408\n",
      "Epoch 25, CIFAR-10 Batch 2:  Loss  1.27391 , Accurary 0.5318\n",
      "Epoch 25, CIFAR-10 Batch 3:  Loss  0.929359 , Accurary 0.5242\n",
      "Epoch 25, CIFAR-10 Batch 4:  Loss  1.14949 , Accurary 0.5336\n",
      "Epoch 25, CIFAR-10 Batch 5:  Loss  1.24002 , Accurary 0.5326\n",
      "Epoch 26, CIFAR-10 Batch 1:  Loss  1.16975 , Accurary 0.5462\n",
      "Epoch 26, CIFAR-10 Batch 2:  Loss  1.24592 , Accurary 0.5356\n",
      "Epoch 26, CIFAR-10 Batch 3:  Loss  0.909364 , Accurary 0.5268\n",
      "Epoch 26, CIFAR-10 Batch 4:  Loss  1.11502 , Accurary 0.5382\n",
      "Epoch 26, CIFAR-10 Batch 5:  Loss  1.17983 , Accurary 0.5238\n",
      "Epoch 27, CIFAR-10 Batch 1:  Loss  1.19912 , Accurary 0.539\n",
      "Epoch 27, CIFAR-10 Batch 2:  Loss  1.27189 , Accurary 0.5412\n",
      "Epoch 27, CIFAR-10 Batch 3:  Loss  0.87592 , Accurary 0.5258\n",
      "Epoch 27, CIFAR-10 Batch 4:  Loss  1.07772 , Accurary 0.5396\n",
      "Epoch 27, CIFAR-10 Batch 5:  Loss  1.17295 , Accurary 0.5192\n",
      "Epoch 28, CIFAR-10 Batch 1:  Loss  1.20075 , Accurary 0.535\n",
      "Epoch 28, CIFAR-10 Batch 2:  Loss  1.26425 , Accurary 0.5418\n",
      "Epoch 28, CIFAR-10 Batch 3:  Loss  0.87337 , Accurary 0.5312\n",
      "Epoch 28, CIFAR-10 Batch 4:  Loss  1.09151 , Accurary 0.5346\n",
      "Epoch 28, CIFAR-10 Batch 5:  Loss  1.12659 , Accurary 0.5344\n",
      "Epoch 29, CIFAR-10 Batch 1:  Loss  1.1226 , Accurary 0.5478\n",
      "Epoch 29, CIFAR-10 Batch 2:  Loss  1.28369 , Accurary 0.5448\n",
      "Epoch 29, CIFAR-10 Batch 3:  Loss  0.885087 , Accurary 0.5326\n",
      "Epoch 29, CIFAR-10 Batch 4:  Loss  1.08052 , Accurary 0.5374\n",
      "Epoch 29, CIFAR-10 Batch 5:  Loss  1.08833 , Accurary 0.535\n",
      "Epoch 30, CIFAR-10 Batch 1:  Loss  1.08908 , Accurary 0.5494\n",
      "Epoch 30, CIFAR-10 Batch 2:  Loss  1.22989 , Accurary 0.5446\n",
      "Epoch 30, CIFAR-10 Batch 3:  Loss  0.876001 , Accurary 0.5326\n",
      "Epoch 30, CIFAR-10 Batch 4:  Loss  1.05508 , Accurary 0.544\n",
      "Epoch 30, CIFAR-10 Batch 5:  Loss  1.04571 , Accurary 0.5486\n"
     ]
    }
   ],
   "source": [
    "\"\"\"\n",
    "DON'T MODIFY ANYTHING IN THIS CELL\n",
    "\"\"\"\n",
    "save_model_path = './image_classification'\n",
    "\n",
    "print('Training...')\n",
    "with tf.Session() as sess:\n",
    "    # Initializing the variables\n",
    "    sess.run(tf.global_variables_initializer())\n",
    "    \n",
    "    # Training cycle\n",
    "    for epoch in range(epochs):\n",
    "        # Loop over all batches\n",
    "        n_batches = 5\n",
    "        for batch_i in range(1, n_batches + 1):\n",
    "            for batch_features, batch_labels in helper.load_preprocess_training_batch(batch_i, batch_size):\n",
    "                train_neural_network(sess, optimizer, keep_probability, batch_features, batch_labels)\n",
    "            print('Epoch {:>2}, CIFAR-10 Batch {}:  '.format(epoch + 1, batch_i), end='')\n",
    "            print_stats(sess, batch_features, batch_labels, cost, accuracy)\n",
    "            \n",
    "    # Save Model\n",
    "    saver = tf.train.Saver()\n",
    "    save_path = saver.save(sess, save_model_path)"
   ]
  },
  {
   "cell_type": "markdown",
   "metadata": {
    "deletable": true,
    "editable": true
   },
   "source": [
    "# Checkpoint\n",
    "The model has been saved to disk.\n",
    "## Test Model\n",
    "Test your model against the test dataset.  This will be your final accuracy. You should have an accuracy greater than 50%. If you don't, keep tweaking the model architecture and parameters."
   ]
  },
  {
   "cell_type": "code",
   "execution_count": 63,
   "metadata": {
    "collapsed": false,
    "deletable": true,
    "editable": true
   },
   "outputs": [
    {
     "name": "stdout",
     "output_type": "stream",
     "text": [
      "Testing Accuracy: 0.5401503164556962\n",
      "\n"
     ]
    },
    {
     "data": {
      "image/png": "[encoded data removed]",
      "text/plain": [
       "<matplotlib.figure.Figure at 0x7f99e4647780>"
      ]
     },
     "metadata": {
      "image/png": {
       "height": 319,
       "width": 355
      }
     },
     "output_type": "display_data"
    }
   ],
   "source": [
    "\"\"\"\n",
    "DON'T MODIFY ANYTHING IN THIS CELL\n",
    "\"\"\"\n",
    "%matplotlib inline\n",
    "%config InlineBackend.figure_format = 'retina'\n",
    "\n",
    "import tensorflow as tf\n",
    "import pickle\n",
    "import helper\n",
    "import random\n",
    "\n",
    "# Set batch size if not already set\n",
    "try:\n",
    "    if batch_size:\n",
    "        pass\n",
    "except NameError:\n",
    "    batch_size = 64\n",
    "\n",
    "save_model_path = './image_classification'\n",
    "n_samples = 4\n",
    "top_n_predictions = 3\n",
    "\n",
    "def test_model():\n",
    "    \"\"\"\n",
    "    Test the saved model against the test dataset\n",
    "    \"\"\"\n",
    "\n",
    "    test_features, test_labels = pickle.load(open('preprocess_training.p', mode='rb'))\n",
    "    loaded_graph = tf.Graph()\n",
    "\n",
    "    with tf.Session(graph=loaded_graph) as sess:\n",
    "        # Load model\n",
    "        loader = tf.train.import_meta_graph(save_model_path + '.meta')\n",
    "        loader.restore(sess, save_model_path)\n",
    "\n",
    "        # Get Tensors from loaded model\n",
    "        loaded_x = loaded_graph.get_tensor_by_name('x:0')\n",
    "        loaded_y = loaded_graph.get_tensor_by_name('y:0')\n",
    "        loaded_keep_prob = loaded_graph.get_tensor_by_name('keep_prob:0')\n",
    "        loaded_logits = loaded_graph.get_tensor_by_name('logits:0')\n",
    "        loaded_acc = loaded_graph.get_tensor_by_name('accuracy:0')\n",
    "        \n",
    "        # Get accuracy in batches for memory limitations\n",
    "        test_batch_acc_total = 0\n",
    "        test_batch_count = 0\n",
    "        \n",
    "        for train_feature_batch, train_label_batch in helper.batch_features_labels(test_features, test_labels, batch_size):\n",
    "            test_batch_acc_total += sess.run(\n",
    "                loaded_acc,\n",
    "                feed_dict={loaded_x: train_feature_batch, loaded_y: train_label_batch, loaded_keep_prob: 1.0})\n",
    "            test_batch_count += 1\n",
    "\n",
    "        print('Testing Accuracy: {}\\n'.format(test_batch_acc_total/test_batch_count))\n",
    "\n",
    "        # Print Random Samples\n",
    "        random_test_features, random_test_labels = tuple(zip(*random.sample(list(zip(test_features, test_labels)), n_samples)))\n",
    "        random_test_predictions = sess.run(\n",
    "            tf.nn.top_k(tf.nn.softmax(loaded_logits), top_n_predictions),\n",
    "            feed_dict={loaded_x: random_test_features, loaded_y: random_test_labels, loaded_keep_prob: 1.0})\n",
    "        helper.display_image_predictions(random_test_features, random_test_labels, random_test_predictions)\n",
    "\n",
    "\n",
    "test_model()"
   ]
  },
  {
   "cell_type": "markdown",
   "metadata": {
    "deletable": true,
    "editable": true
   },
   "source": [
    "## Why 50-70% Accuracy?\n",
    "You might be wondering why you can't get an accuracy any higher. First things first, 50% isn't bad for a simple CNN.  Pure guessing would get you 10% accuracy. However, you might notice people are getting scores [well above 70%](http://rodrigob.github.io/are_we_there_yet/build/classification_datasets_results.html#43494641522d3130).  That's because we haven't taught you all there is to know about neural networks. We still need to cover a few more techniques.\n",
    "## Submitting This Project\n",
    "When submitting this project, make sure to run all the cells before saving the notebook.  Save the notebook file as \"dlnd_image_classification.ipynb\" and save it as a HTML file under \"File\" -> \"Download as\".  Include the \"helper.py\" and \"problem_unittests.py\" files in your submission."
   ]
  }
 ],
 "metadata": {
  "kernelspec": {
   "display_name": "Python 3",
   "language": "python",
   "name": "python3"
  },
  "language_info": {
   "codemirror_mode": {
    "name": "ipython",
    "version": 3
   },
   "file_extension": ".py",
   "mimetype": "text/x-python",
   "name": "python",
   "nbconvert_exporter": "python",
   "pygments_lexer": "ipython3",
   "version": "3.5.2"
  }
 },
 "nbformat": 4,
 "nbformat_minor": 0
}
