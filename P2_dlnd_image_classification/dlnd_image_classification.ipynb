{
 "cells": [
  {
   "cell_type": "markdown",
   "metadata": {
    "collapsed": true,
    "deletable": true,
    "editable": true
   },
   "source": [
    "# Image Classification\n",
    "In this project, you'll classify images from the [CIFAR-10 dataset](https://www.cs.toronto.edu/~kriz/cifar.html).  The dataset consists of airplanes, dogs, cats, and other objects. You'll preprocess the images, then train a convolutional neural network on all the samples. The images need to be normalized and the labels need to be one-hot encoded.  You'll get to apply what you learned and build a convolutional, max pooling, dropout, and fully connected layers.  At the end, you'll get to see your neural network's predictions on the sample images.\n",
    "## Get the Data\n",
    "Run the following cell to download the [CIFAR-10 dataset for python](https://www.cs.toronto.edu/~kriz/cifar-10-python.tar.gz)."
   ]
  },
  {
   "cell_type": "code",
   "execution_count": 237,
   "metadata": {
    "collapsed": false,
    "deletable": true,
    "editable": true
   },
   "outputs": [
    {
     "name": "stdout",
     "output_type": "stream",
     "text": [
      "All files found!\n"
     ]
    }
   ],
   "source": [
    "\"\"\"\n",
    "DON'T MODIFY ANYTHING IN THIS CELL THAT IS BELOW THIS LINE\n",
    "\"\"\"\n",
    "from urllib.request import urlretrieve\n",
    "from os.path import isfile, isdir\n",
    "from tqdm import tqdm\n",
    "import problem_unittests as tests\n",
    "import tarfile\n",
    "\n",
    "cifar10_dataset_folder_path = 'cifar-10-batches-py'\n",
    "\n",
    "class DLProgress(tqdm):\n",
    "    last_block = 0\n",
    "\n",
    "    def hook(self, block_num=1, block_size=1, total_size=None):\n",
    "        self.total = total_size\n",
    "        self.update((block_num - self.last_block) * block_size)\n",
    "        self.last_block = block_num\n",
    "\n",
    "if not isfile('cifar-10-python.tar.gz'):\n",
    "    with DLProgress(unit='B', unit_scale=True, miniters=1, desc='CIFAR-10 Dataset') as pbar:\n",
    "        urlretrieve(\n",
    "            'https://www.cs.toronto.edu/~kriz/cifar-10-python.tar.gz',\n",
    "            'cifar-10-python.tar.gz',\n",
    "            pbar.hook)\n",
    "\n",
    "if not isdir(cifar10_dataset_folder_path):\n",
    "    with tarfile.open('cifar-10-python.tar.gz') as tar:\n",
    "        tar.extractall()\n",
    "        tar.close()\n",
    "\n",
    "\n",
    "tests.test_folder_path(cifar10_dataset_folder_path)"
   ]
  },
  {
   "cell_type": "markdown",
   "metadata": {
    "deletable": true,
    "editable": true
   },
   "source": [
    "## Explore the Data\n",
    "The dataset is broken into batches to prevent your machine from running out of memory.  The CIFAR-10 dataset consists of 5 batches, named `data_batch_1`, `data_batch_2`, etc.. Each batch contains the labels and images that are one of the following:\n",
    "* airplane\n",
    "* automobile\n",
    "* bird\n",
    "* cat\n",
    "* deer\n",
    "* dog\n",
    "* frog\n",
    "* horse\n",
    "* ship\n",
    "* truck\n",
    "\n",
    "Understanding a dataset is part of making predictions on the data.  Play around with the code cell below by changing the `batch_id` and `sample_id`. The `batch_id` is the id for a batch (1-5). The `sample_id` is the id for a image and label pair in the batch.\n",
    "\n",
    "Ask yourself \"What are all possible labels?\", \"What is the range of values for the image data?\", \"Are the labels in order or random?\".  Answers to questions like these will help you preprocess the data and end up with better predictions."
   ]
  },
  {
   "cell_type": "code",
   "execution_count": 238,
   "metadata": {
    "collapsed": false,
    "deletable": true,
    "editable": true
   },
   "outputs": [
    {
     "name": "stdout",
     "output_type": "stream",
     "text": [
      "\n",
      "Stats of batch 1:\n",
      "Samples: 10000\n",
      "Label Counts: {0: 1005, 1: 974, 2: 1032, 3: 1016, 4: 999, 5: 937, 6: 1030, 7: 1001, 8: 1025, 9: 981}\n",
      "First 20 Labels: [6, 9, 9, 4, 1, 1, 2, 7, 8, 3, 4, 7, 7, 2, 9, 9, 9, 3, 2, 6]\n",
      "\n",
      "Example of Image 5:\n",
      "Image - Min Value: 0 Max Value: 252\n",
      "Image - Shape: (32, 32, 3)\n",
      "Label - Label Id: 1 Name: automobile\n"
     ]
    },
    {
     "data": {
      "image/png": "[encoded data removed]",
      "text/plain": [
       "<matplotlib.figure.Figure at 0x7f2a7a6bbe80>"
      ]
     },
     "metadata": {
      "image/png": {
       "height": 250,
       "width": 253
      }
     },
     "output_type": "display_data"
    }
   ],
   "source": [
    "%matplotlib inline\n",
    "%config InlineBackend.figure_format = 'retina'\n",
    "\n",
    "import helper\n",
    "import numpy as np\n",
    "\n",
    "# Explore the dataset\n",
    "batch_id = 1\n",
    "sample_id = 5\n",
    "helper.display_stats(cifar10_dataset_folder_path, batch_id, sample_id)"
   ]
  },
  {
   "cell_type": "markdown",
   "metadata": {
    "deletable": true,
    "editable": true
   },
   "source": [
    "## Implement Preprocess Functions\n",
    "### Normalize\n",
    "In the cell below, implement the `normalize` function to take in image data, `x`, and return it as a normalized Numpy array. The values should be in the range of 0 to 1, inclusive.  The return object should be the same shape as `x`."
   ]
  },
  {
   "cell_type": "code",
   "execution_count": 239,
   "metadata": {
    "collapsed": false,
    "deletable": true,
    "editable": true
   },
   "outputs": [
    {
     "name": "stdout",
     "output_type": "stream",
     "text": [
      "Tests Passed\n"
     ]
    }
   ],
   "source": [
    "def normalize(x):\n",
    "    \"\"\"\n",
    "    Normalize a list of sample image data in the range of 0 to 1\n",
    "    : x: List of image data.  The image shape is (32, 32, 3)\n",
    "    : return: Numpy array of normalize data\n",
    "    \"\"\"\n",
    "    # TODO: Implement Function\n",
    "    _min = np.min(x)\n",
    "    _max = np.max(x)\n",
    "    return (x-_min)/(_max-_min)\n",
    "\n",
    "\n",
    "\"\"\"\n",
    "DON'T MODIFY ANYTHING IN THIS CELL THAT IS BELOW THIS LINE\n",
    "\"\"\"\n",
    "tests.test_normalize(normalize)"
   ]
  },
  {
   "cell_type": "markdown",
   "metadata": {
    "deletable": true,
    "editable": true
   },
   "source": [
    "### One-hot encode\n",
    "Just like the previous code cell, you'll be implementing a function for preprocessing.  This time, you'll implement the `one_hot_encode` function. The input, `x`, are a list of labels.  Implement the function to return the list of labels as One-Hot encoded Numpy array.  The possible values for labels are 0 to 9. The one-hot encoding function should return the same encoding for each value between each call to `one_hot_encode`.  Make sure to save the map of encodings outside the function.\n",
    "\n",
    "Hint: Don't reinvent the wheel."
   ]
  },
  {
   "cell_type": "code",
   "execution_count": 240,
   "metadata": {
    "collapsed": false,
    "deletable": true,
    "editable": true
   },
   "outputs": [
    {
     "name": "stdout",
     "output_type": "stream",
     "text": [
      "Tests Passed\n"
     ]
    }
   ],
   "source": [
    "def one_hot_encode(x):\n",
    "    \"\"\"\n",
    "    One hot encode a list of sample labels. Return a one-hot encoded vector for each label.\n",
    "    : x: List of sample Labels\n",
    "    : return: Numpy array of one-hot encoded labels\n",
    "    \"\"\"\n",
    "    # TODO: Implement Function\n",
    "    onehot = np.zeros(shape=(len(x),10),dtype = np.int32)\n",
    "    for i in range(len(x)):\n",
    "        for j in range(10):\n",
    "            onehot[i,j] = int(x[i]==j)\n",
    "    return onehot\n",
    "\n",
    "\n",
    "\"\"\"\n",
    "DON'T MODIFY ANYTHING IN THIS CELL THAT IS BELOW THIS LINE\n",
    "\"\"\"\n",
    "tests.test_one_hot_encode(one_hot_encode)"
   ]
  },
  {
   "cell_type": "code",
   "execution_count": 241,
   "metadata": {
    "collapsed": false
   },
   "outputs": [
    {
     "name": "stdout",
     "output_type": "stream",
     "text": [
      "Tests Passed\n"
     ]
    }
   ],
   "source": [
    "def one_hot_encode(x):\n",
    "    \"\"\"\n",
    "    One hot encode a list of sample labels. Return a one-hot encoded vector for each label.\n",
    "    : x: List of sample Labels\n",
    "    : return: Numpy array of one-hot encoded labels\n",
    "    \"\"\"\n",
    "    # TODO: Implement Function\n",
    "    return np.eye(10)[x]\n",
    "\n",
    "\n",
    "\"\"\"\n",
    "DON'T MODIFY ANYTHING IN THIS CELL THAT IS BELOW THIS LINE\n",
    "\"\"\"\n",
    "tests.test_one_hot_encode(one_hot_encode)"
   ]
  },
  {
   "cell_type": "code",
   "execution_count": 242,
   "metadata": {
    "collapsed": false
   },
   "outputs": [
    {
     "data": {
      "text/plain": [
       "0"
      ]
     },
     "execution_count": 242,
     "metadata": {},
     "output_type": "execute_result"
    }
   ],
   "source": [
    "int(False)"
   ]
  },
  {
   "cell_type": "markdown",
   "metadata": {
    "deletable": true,
    "editable": true
   },
   "source": [
    "### Randomize Data\n",
    "As you saw from exploring the data above, the order of the samples are randomized.  It doesn't hurt to randomize it again, but you don't need to for this dataset."
   ]
  },
  {
   "cell_type": "code",
   "execution_count": 243,
   "metadata": {
    "collapsed": false
   },
   "outputs": [
    {
     "name": "stdout",
     "output_type": "stream",
     "text": [
      "[[ 0.  0.  0. ...,  0.  0.  0.]\n",
      " [ 0.  0.  1. ...,  0.  0.  0.]\n",
      " [ 0.  0.  1. ...,  0.  0.  0.]\n",
      " ..., \n",
      " [ 0.  0.  0. ...,  0.  0.  1.]\n",
      " [ 0.  1.  0. ...,  0.  0.  0.]\n",
      " [ 0.  1.  0. ...,  0.  0.  0.]]\n"
     ]
    }
   ],
   "source": [
    "print(valid_labels)"
   ]
  },
  {
   "cell_type": "markdown",
   "metadata": {
    "deletable": true,
    "editable": true
   },
   "source": [
    "## Preprocess all the data and save it\n",
    "Running the code cell below will preprocess all the CIFAR-10 data and save it to file. The code below also uses 10% of the training data for validation."
   ]
  },
  {
   "cell_type": "code",
   "execution_count": 244,
   "metadata": {
    "collapsed": false,
    "deletable": true,
    "editable": true
   },
   "outputs": [],
   "source": [
    "\"\"\"\n",
    "DON'T MODIFY ANYTHING IN THIS CELL\n",
    "\"\"\"\n",
    "# Preprocess Training, Validation, and Testing Data\n",
    "helper.preprocess_and_save_data(cifar10_dataset_folder_path, normalize, one_hot_encode)"
   ]
  },
  {
   "cell_type": "markdown",
   "metadata": {
    "deletable": true,
    "editable": true
   },
   "source": [
    "# Check Point\n",
    "This is your first checkpoint.  If you ever decide to come back to this notebook or have to restart the notebook, you can start from here.  The preprocessed data has been saved to disk."
   ]
  },
  {
   "cell_type": "code",
   "execution_count": 245,
   "metadata": {
    "collapsed": true,
    "deletable": true,
    "editable": true
   },
   "outputs": [],
   "source": [
    "\"\"\"\n",
    "DON'T MODIFY ANYTHING IN THIS CELL\n",
    "\"\"\"\n",
    "import pickle\n",
    "import problem_unittests as tests\n",
    "import helper\n",
    "\n",
    "# Load the Preprocessed Validation data\n",
    "valid_features, valid_labels = pickle.load(open('preprocess_validation.p', mode='rb'))"
   ]
  },
  {
   "cell_type": "markdown",
   "metadata": {
    "deletable": true,
    "editable": true
   },
   "source": [
    "## Build the network\n",
    "For the neural network, you'll build each layer into a function.  Most of the code you've seen has been outside of functions. To test your code more thoroughly, we require that you put each layer in a function.  This allows us to give you better feedback and test for simple mistakes using our unittests before you submit your project.\n",
    "\n",
    ">**Note:** If you're finding it hard to dedicate enough time for this course each week, we've provided a small shortcut to this part of the project. In the next couple of problems, you'll have the option to use classes from the [TensorFlow Layers](https://www.tensorflow.org/api_docs/python/tf/layers) or [TensorFlow Layers (contrib)](https://www.tensorflow.org/api_guides/python/contrib.layers) packages to build each layer, except the layers you build in the \"Convolutional and Max Pooling Layer\" section.  TF Layers is similar to Keras's and TFLearn's abstraction to layers, so it's easy to pickup.\n",
    "\n",
    ">However, if you would like to get the most out of this course, try to solve all the problems _without_ using anything from the TF Layers packages. You **can** still use classes from other packages that happen to have the same name as ones you find in TF Layers! For example, instead of using the TF Layers version of the `conv2d` class, [tf.layers.conv2d](https://www.tensorflow.org/api_docs/python/tf/layers/conv2d), you would want to use the TF Neural Network version of `conv2d`, [tf.nn.conv2d](https://www.tensorflow.org/api_docs/python/tf/nn/conv2d). \n",
    "\n",
    "Let's begin!\n",
    "\n",
    "### Input\n",
    "The neural network needs to read the image data, one-hot encoded labels, and dropout keep probability. Implement the following functions\n",
    "* Implement `neural_net_image_input`\n",
    " * Return a [TF Placeholder](https://www.tensorflow.org/api_docs/python/tf/placeholder)\n",
    " * Set the shape using `image_shape` with batch size set to `None`.\n",
    " * Name the TensorFlow placeholder \"x\" using the TensorFlow `name` parameter in the [TF Placeholder](https://www.tensorflow.org/api_docs/python/tf/placeholder).\n",
    "* Implement `neural_net_label_input`\n",
    " * Return a [TF Placeholder](https://www.tensorflow.org/api_docs/python/tf/placeholder)\n",
    " * Set the shape using `n_classes` with batch size set to `None`.\n",
    " * Name the TensorFlow placeholder \"y\" using the TensorFlow `name` parameter in the [TF Placeholder](https://www.tensorflow.org/api_docs/python/tf/placeholder).\n",
    "* Implement `neural_net_keep_prob_input`\n",
    " * Return a [TF Placeholder](https://www.tensorflow.org/api_docs/python/tf/placeholder) for dropout keep probability.\n",
    " * Name the TensorFlow placeholder \"keep_prob\" using the TensorFlow `name` parameter in the [TF Placeholder](https://www.tensorflow.org/api_docs/python/tf/placeholder).\n",
    "\n",
    "These names will be used at the end of the project to load your saved model.\n",
    "\n",
    "Note: `None` for shapes in TensorFlow allow for a dynamic size."
   ]
  },
  {
   "cell_type": "code",
   "execution_count": 246,
   "metadata": {
    "collapsed": false,
    "deletable": true,
    "editable": true
   },
   "outputs": [
    {
     "name": "stdout",
     "output_type": "stream",
     "text": [
      "Image Input Tests Passed.\n",
      "Label Input Tests Passed.\n",
      "Keep Prob Tests Passed.\n"
     ]
    }
   ],
   "source": [
    "import tensorflow as tf\n",
    "\n",
    "def neural_net_image_input(image_shape):\n",
    "    \"\"\"\n",
    "    Return a Tensor for a bach of image input\n",
    "    : image_shape: Shape of the images\n",
    "    : return: Tensor for image input.\n",
    "    \"\"\"\n",
    "    # TODO: Implement Function\n",
    "    \n",
    "    xx = tf.placeholder(tf.float32, shape=[None,image_shape[0],image_shape[1],image_shape[2]], name=\"x\")\n",
    "    return xx\n",
    "\n",
    "\n",
    "def neural_net_label_input(n_classes):\n",
    "    \"\"\"\n",
    "    Return a Tensor for a batch of label input\n",
    "    : n_classes: Number of classes\n",
    "    : return: Tensor for label input.\n",
    "    \"\"\"\n",
    "    # TODO: Implement Function\n",
    "    yy = tf.placeholder(tf.float32, shape=[None,n_classes], name=\"y\")\n",
    "    return yy\n",
    "\n",
    "\n",
    "def neural_net_keep_prob_input():\n",
    "    \"\"\"\n",
    "    Return a Tensor for keep probability\n",
    "    : return: Tensor for keep probability.\n",
    "    \"\"\"\n",
    "    # TODO: Implement Function\n",
    "    k = tf.placeholder(tf.float32, shape=(None), name=\"keep_prob\")\n",
    "    return k\n",
    "\n",
    "\n",
    "\"\"\"\n",
    "DON'T MODIFY ANYTHING IN THIS CELL THAT IS BELOW THIS LINE\n",
    "\"\"\"\n",
    "tf.reset_default_graph()\n",
    "tests.test_nn_image_inputs(neural_net_image_input)\n",
    "tests.test_nn_label_inputs(neural_net_label_input)\n",
    "tests.test_nn_keep_prob_inputs(neural_net_keep_prob_input)"
   ]
  },
  {
   "cell_type": "markdown",
   "metadata": {
    "deletable": true,
    "editable": true
   },
   "source": [
    "### Convolution and Max Pooling Layer\n",
    "Convolution layers have a lot of success with images. For this code cell, you should implement the function `conv2d_maxpool` to apply convolution then max pooling:\n",
    "* Create the weight and bias using `conv_ksize`, `conv_num_outputs` and the shape of `x_tensor`.\n",
    "* Apply a convolution to `x_tensor` using weight and `conv_strides`.\n",
    " * We recommend you use same padding, but you're welcome to use any padding.\n",
    "* Add bias\n",
    "* Add a nonlinear activation to the convolution.\n",
    "* Apply Max Pooling using `pool_ksize` and `pool_strides`.\n",
    " * We recommend you use same padding, but you're welcome to use any padding.\n",
    "\n",
    "**Note:** You **can't** use [TensorFlow Layers](https://www.tensorflow.org/api_docs/python/tf/layers) or [TensorFlow Layers (contrib)](https://www.tensorflow.org/api_guides/python/contrib.layers) for **this** layer, but you can still use TensorFlow's [Neural Network](https://www.tensorflow.org/api_docs/python/tf/nn) package. You may still use the shortcut option for all the **other** layers."
   ]
  },
  {
   "cell_type": "code",
   "execution_count": 247,
   "metadata": {
    "collapsed": false,
    "deletable": true,
    "editable": true
   },
   "outputs": [
    {
     "name": "stdout",
     "output_type": "stream",
     "text": [
      "Tests Passed\n"
     ]
    }
   ],
   "source": [
    "def conv2d_maxpool(x_tensor, conv_num_outputs, conv_ksize, conv_strides, pool_ksize, pool_strides):\n",
    "    \"\"\"\n",
    "    Apply convolution then max pooling to x_tensor\n",
    "    :param x_tensor: TensorFlow Tensor\n",
    "    :param conv_num_outputs: Number of outputs for the convolutional layer\n",
    "    :param conv_ksize: kernal size 2-D Tuple for the convolutional layer\n",
    "    :param conv_strides: Stride 2-D Tuple for convolution\n",
    "    :param pool_ksize: kernal size 2-D Tuple for pool\n",
    "    :param pool_strides: Stride 2-D Tuple for pool\n",
    "    : return: A tensor that represents convolution and max pooling of x_tensor\n",
    "    \"\"\"\n",
    "    # TODO: Implement Function\n",
    "    weight = tf.Variable(tf.truncated_normal([*conv_ksize, int(x_tensor.shape[3]), conv_num_outputs]))\n",
    "    bias = tf.Variable(tf.zeros(conv_num_outputs))\n",
    "    conv_layer = tf.nn.conv2d(x_tensor, weight, strides=[1,*conv_strides,1], padding='SAME')\n",
    "    conv_layer = tf.nn.bias_add(conv_layer, bias)\n",
    "    conv_layer = tf.nn.relu(conv_layer)    \n",
    "    conv_layer = tf.nn.max_pool(conv_layer, ksize=[1,*pool_strides,1], strides=[1,*pool_strides,1], padding='SAME')\n",
    "    \n",
    "    \n",
    "    return conv_layer\n",
    "\n",
    "\n",
    "\n",
    "\n",
    "\"\"\"\n",
    "DON'T MODIFY ANYTHING IN THIS CELL THAT IS BELOW THIS LINE\n",
    "\"\"\"\n",
    "tests.test_con_pool(conv2d_maxpool)"
   ]
  },
  {
   "cell_type": "markdown",
   "metadata": {
    "deletable": true,
    "editable": true
   },
   "source": [
    "### Flatten Layer\n",
    "Implement the `flatten` function to change the dimension of `x_tensor` from a 4-D tensor to a 2-D tensor.  The output should be the shape (*Batch Size*, *Flattened Image Size*). Shortcut option: you can use classes from the [TensorFlow Layers](https://www.tensorflow.org/api_docs/python/tf/layers) or [TensorFlow Layers (contrib)](https://www.tensorflow.org/api_guides/python/contrib.layers) packages for this layer. For more of a challenge, only use other TensorFlow packages."
   ]
  },
  {
   "cell_type": "code",
   "execution_count": 248,
   "metadata": {
    "collapsed": false,
    "deletable": true,
    "editable": true
   },
   "outputs": [
    {
     "name": "stdout",
     "output_type": "stream",
     "text": [
      "Tests Passed\n"
     ]
    }
   ],
   "source": [
    "def flatten(x_tensor):\n",
    "    \"\"\"\n",
    "    Flatten x_tensor to (Batch Size, Flattened Image Size)\n",
    "    : x_tensor: A tensor of size (Batch Size, ...), where ... are the image dimensions.\n",
    "    : return: A tensor of size (Batch Size, Flattened Image Size).\n",
    "    \"\"\"\n",
    "    # TODO: Implement Function\n",
    "    flattens = x_tensor.shape[1]*x_tensor.shape[2]*x_tensor.shape[3]\n",
    "    return tf.reshape(x_tensor, [-1, int(flattens)])\n",
    "\n",
    "\"\"\"\n",
    "DON'T MODIFY ANYTHING IN THIS CELL THAT IS BELOW THIS LINE\n",
    "\"\"\"\n",
    "tests.test_flatten(flatten)"
   ]
  },
  {
   "cell_type": "markdown",
   "metadata": {
    "deletable": true,
    "editable": true
   },
   "source": [
    "### Fully-Connected Layer\n",
    "Implement the `fully_conn` function to apply a fully connected layer to `x_tensor` with the shape (*Batch Size*, *num_outputs*). Shortcut option: you can use classes from the [TensorFlow Layers](https://www.tensorflow.org/api_docs/python/tf/layers) or [TensorFlow Layers (contrib)](https://www.tensorflow.org/api_guides/python/contrib.layers) packages for this layer. For more of a challenge, only use other TensorFlow packages."
   ]
  },
  {
   "cell_type": "code",
   "execution_count": 249,
   "metadata": {
    "collapsed": false,
    "deletable": true,
    "editable": true
   },
   "outputs": [
    {
     "name": "stdout",
     "output_type": "stream",
     "text": [
      "Tests Passed\n"
     ]
    }
   ],
   "source": [
    "def fully_conn(x_tensor, num_outputs):\n",
    "    \"\"\"\n",
    "    Apply a fully connected layer to x_tensor using weight and bias\n",
    "    : x_tensor: A 2-D tensor where the first dimension is batch size.\n",
    "    : num_outputs: The number of output that the new tensor should be.\n",
    "    : return: A 2-D tensor where the second dimension is num_outputs.\n",
    "    \"\"\"\n",
    "    # TODO: Implement Function\n",
    "    #batch_size, *shape = x_tensor.shape\n",
    "    weight = tf.Variable(tf.truncated_normal([int(x_tensor.shape[1]), num_outputs]))\n",
    "    bias = tf.Variable(tf.zeros([num_outputs]))\n",
    "    \n",
    "    full_layer = tf.nn.relu(tf.add(tf.matmul(x_tensor,weight),bias))\n",
    "\n",
    "    return full_layer\n",
    "\n",
    "\n",
    "\"\"\"\n",
    "DON'T MODIFY ANYTHING IN THIS CELL THAT IS BELOW THIS LINE\n",
    "\"\"\"\n",
    "tests.test_fully_conn(fully_conn)"
   ]
  },
  {
   "cell_type": "markdown",
   "metadata": {
    "deletable": true,
    "editable": true
   },
   "source": [
    "### Output Layer\n",
    "Implement the `output` function to apply a fully connected layer to `x_tensor` with the shape (*Batch Size*, *num_outputs*). Shortcut option: you can use classes from the [TensorFlow Layers](https://www.tensorflow.org/api_docs/python/tf/layers) or [TensorFlow Layers (contrib)](https://www.tensorflow.org/api_guides/python/contrib.layers) packages for this layer. For more of a challenge, only use other TensorFlow packages.\n",
    "\n",
    "**Note:** Activation, softmax, or cross entropy should **not** be applied to this."
   ]
  },
  {
   "cell_type": "code",
   "execution_count": 250,
   "metadata": {
    "collapsed": false,
    "deletable": true,
    "editable": true
   },
   "outputs": [
    {
     "name": "stdout",
     "output_type": "stream",
     "text": [
      "Tests Passed\n"
     ]
    }
   ],
   "source": [
    "def output(x_tensor, num_outputs):\n",
    "    \"\"\"\n",
    "    Apply a output layer to x_tensor using weight and bias\n",
    "    : x_tensor: A 2-D tensor where the first dimension is batch size.\n",
    "    : num_outputs: The number of output that the new tensor should be.\n",
    "    : return: A 2-D tensor where the second dimension is num_outputs.\n",
    "    \"\"\"\n",
    "    # TODO: Implement Function\n",
    "    weight = tf.Variable(tf.truncated_normal([int(x_tensor.shape[1]), num_outputs]))\n",
    "    bias = tf.Variable(tf.zeros([num_outputs]))\n",
    "    \n",
    "    output_layer = tf.add(tf.matmul(x_tensor,weight),bias)\n",
    "\n",
    "    return output_layer\n",
    "\n",
    "\n",
    "\"\"\"\n",
    "DON'T MODIFY ANYTHING IN THIS CELL THAT IS BELOW THIS LINE\n",
    "\"\"\"\n",
    "tests.test_output(output)"
   ]
  },
  {
   "cell_type": "markdown",
   "metadata": {
    "deletable": true,
    "editable": true
   },
   "source": [
    "### Create Convolutional Model\n",
    "Implement the function `conv_net` to create a convolutional neural network model. The function takes in a batch of images, `x`, and outputs logits.  Use the layers you created above to create this model:\n",
    "\n",
    "* Apply 1, 2, or 3 Convolution and Max Pool layers\n",
    "* Apply a Flatten Layer\n",
    "* Apply 1, 2, or 3 Fully Connected Layers\n",
    "* Apply an Output Layer\n",
    "* Return the output\n",
    "* Apply [TensorFlow's Dropout](https://www.tensorflow.org/api_docs/python/tf/nn/dropout) to one or more layers in the model using `keep_prob`. "
   ]
  },
  {
   "cell_type": "code",
   "execution_count": 292,
   "metadata": {
    "collapsed": false,
    "deletable": true,
    "editable": true
   },
   "outputs": [
    {
     "name": "stdout",
     "output_type": "stream",
     "text": [
      "Neural Network Built!\n"
     ]
    }
   ],
   "source": [
    "def conv_net(x, keep_prob):\n",
    "    \"\"\"\n",
    "    Create a convolutional neural network model\n",
    "    : x: Placeholder tensor that holds image data.\n",
    "    : keep_prob: Placeholder tensor that hold dropout keep probability.\n",
    "    : return: Tensor that represents logits\n",
    "    \"\"\"\n",
    "\n",
    "    # TODO: Apply 1, 2, or 3 Convolution and Max Pool layers\n",
    "    #    Play around with different number of outputs, kernel size and stride\n",
    "    # Function Definition from Above:\n",
    "    #    conv2d_maxpool(x_tensor, conv_num_outputs, conv_ksize, conv_strides, pool_ksize, pool_strides)\n",
    "    x1 = x\n",
    "    c1 = conv2d_maxpool(x1, 64, (3,3), (1,1), (2,2), (2,2))\n",
    "    c2 = conv2d_maxpool(c1, 128, (3,3), (2,2), (2,2), (2,2))\n",
    "    c3 = conv2d_maxpool(c2, 256, (3,3), (1,1), (2,2), (2,2))\n",
    "\n",
    "    # TODO: Apply a Flatten Layer\n",
    "    # Function Definition from Above:\n",
    "    #   flatten(x_tensor)\n",
    "    fl1 = flatten(c3)\n",
    "\n",
    "    # TODO: Apply 1, 2, or 3 Fully Connected Layers\n",
    "    #    Play around with different number of outputs\n",
    "    # Function Definition from Above:\n",
    "    #   fully_conn(x_tensor, num_outputs)\n",
    "    #fu1 = fully_conn(fl1, 512)\n",
    "    #dp1 = tf.nn.dropout(fu1,keep_prob)\n",
    "    #fu2 = fully_conn(dp1, 128)\n",
    "    #dp2 = tf.nn.dropout(fu2,keep_prob)\n",
    "    \n",
    "    \n",
    "    f1 = fully_conn(fl1, 512)\n",
    "    f2 = fully_conn(f1, 512)\n",
    "    f3 = fully_conn(f2, 512)\n",
    "    #dp2 = tf.nn.dropout(f1,keep_prob)\n",
    "    # TODO: Apply an Output Layer\n",
    "    #    Set this to the number of classes\n",
    "    # Function Definition from Above:\n",
    "    #   output(x_tensor, num_outputs)\n",
    "    ou1 = output(f3, 10)\n",
    "    \n",
    "    # TODO: return output\n",
    "    return ou1\n",
    "\n",
    "\n",
    "\n",
    "\n",
    "\n",
    "\"\"\"\n",
    "DON'T MODIFY ANYTHING IN THIS CELL THAT IS BELOW THIS LINE\n",
    "\"\"\"\n",
    "\n",
    "##############################\n",
    "## Build the Neural Network ##\n",
    "##############################\n",
    "\n",
    "# Remove previous weights, bias, inputs, etc..\n",
    "tf.reset_default_graph()\n",
    "\n",
    "# Inputs\n",
    "x = neural_net_image_input((32, 32, 3))\n",
    "y = neural_net_label_input(10)\n",
    "keep_prob = neural_net_keep_prob_input()\n",
    "\n",
    "# Model\n",
    "logits = conv_net(x, keep_prob)\n",
    "\n",
    "# Name logits Tensor, so that is can be loaded from disk after training\n",
    "logits = tf.identity(logits, name='logits')\n",
    "\n",
    "# Loss and Optimizer\n",
    "cost = tf.reduce_mean(tf.nn.softmax_cross_entropy_with_logits(logits=logits, labels=y))\n",
    "optimizer = tf.train.AdamOptimizer().minimize(cost)\n",
    "\n",
    "# Accuracy\n",
    "correct_pred = tf.equal(tf.argmax(logits, 1), tf.argmax(y, 1))\n",
    "accuracy = tf.reduce_mean(tf.cast(correct_pred, tf.float32), name='accuracy')\n",
    "\n",
    "tests.test_conv_net(conv_net)"
   ]
  },
  {
   "cell_type": "markdown",
   "metadata": {
    "deletable": true,
    "editable": true
   },
   "source": [
    "## Train the Neural Network\n",
    "### Single Optimization\n",
    "Implement the function `train_neural_network` to do a single optimization.  The optimization should use `optimizer` to optimize in `session` with a `feed_dict` of the following:\n",
    "* `x` for image input\n",
    "* `y` for labels\n",
    "* `keep_prob` for keep probability for dropout\n",
    "\n",
    "This function will be called for each batch, so `tf.global_variables_initializer()` has already been called.\n",
    "\n",
    "Note: Nothing needs to be returned. This function is only optimizing the neural network."
   ]
  },
  {
   "cell_type": "code",
   "execution_count": 293,
   "metadata": {
    "collapsed": false,
    "deletable": true,
    "editable": true
   },
   "outputs": [
    {
     "name": "stdout",
     "output_type": "stream",
     "text": [
      "Tests Passed\n"
     ]
    }
   ],
   "source": [
    "def train_neural_network(session, optimizer, keep_probability, feature_batch, label_batch):\n",
    "    \"\"\"\n",
    "    Optimize the session on a batch of images and labels\n",
    "    : session: Current TensorFlow session\n",
    "    : optimizer: TensorFlow optimizer function\n",
    "    : keep_probability: keep probability\n",
    "    : feature_batch: Batch of Numpy image data\n",
    "    : label_batch: Batch of Numpy label data\n",
    "    \"\"\"\n",
    "    # TODO: Implement Function\n",
    "    session.run(optimizer, feed_dict={\n",
    "        x: feature_batch,\n",
    "        y: label_batch,\n",
    "        keep_prob: keep_probability\n",
    "    })\n",
    "\"\"\"\n",
    "DON'T MODIFY ANYTHING IN THIS CELL THAT IS BELOW THIS LINE\n",
    "\"\"\"\n",
    "tests.test_train_nn(train_neural_network)"
   ]
  },
  {
   "cell_type": "markdown",
   "metadata": {
    "deletable": true,
    "editable": true
   },
   "source": [
    "### Show Stats\n",
    "Implement the function `print_stats` to print loss and validation accuracy.  Use the global variables `valid_features` and `valid_labels` to calculate validation accuracy.  Use a keep probability of `1.0` to calculate the loss and validation accuracy."
   ]
  },
  {
   "cell_type": "code",
   "execution_count": 294,
   "metadata": {
    "collapsed": false,
    "deletable": true,
    "editable": true
   },
   "outputs": [],
   "source": [
    "def print_stats(session, feature_batch, label_batch, cost, accuracy):\n",
    "    \"\"\"\n",
    "    Print information about loss and validation accuracy\n",
    "    : session: Current TensorFlow session\n",
    "    : feature_batch: Batch of Numpy image data\n",
    "    : label_batch: Batch of Numpy label data\n",
    "    : cost: TensorFlow cost function\n",
    "    : accuracy: TensorFlow accuracy function\n",
    "    \"\"\"\n",
    "    # TODO: Implement Function\n",
    "    loss = session.run(cost, feed_dict={\n",
    "        x: feature_batch,\n",
    "        y: label_batch,\n",
    "        keep_prob: 1\n",
    "    })\n",
    "    theaccuracy = session.run(accuracy, feed_dict={\n",
    "        x: valid_features,\n",
    "        y: valid_labels,\n",
    "        keep_prob: 1\n",
    "    })\n",
    "    print(\"Loss \", loss, \", Accurary\", theaccuracy)"
   ]
  },
  {
   "cell_type": "markdown",
   "metadata": {
    "deletable": true,
    "editable": true
   },
   "source": [
    "### Hyperparameters\n",
    "Tune the following parameters:\n",
    "* Set `epochs` to the number of iterations until the network stops learning or start overfitting\n",
    "* Set `batch_size` to the highest number that your machine has memory for.  Most people set them to common sizes of memory:\n",
    " * 64\n",
    " * 128\n",
    " * 256\n",
    " * ...\n",
    "* Set `keep_probability` to the probability of keeping a node using dropout"
   ]
  },
  {
   "cell_type": "code",
   "execution_count": 298,
   "metadata": {
    "collapsed": true,
    "deletable": true,
    "editable": true
   },
   "outputs": [],
   "source": [
    "# TODO: Tune Parameters\n",
    "epochs = 100\n",
    "batch_size = 256\n",
    "keep_probability = 1"
   ]
  },
  {
   "cell_type": "markdown",
   "metadata": {
    "deletable": true,
    "editable": true
   },
   "source": [
    "### Train on a Single CIFAR-10 Batch\n",
    "Instead of training the neural network on all the CIFAR-10 batches of data, let's use a single batch. This should save time while you iterate on the model to get a better accuracy.  Once the final validation accuracy is 50% or greater, run the model on all the data in the next section."
   ]
  },
  {
   "cell_type": "code",
   "execution_count": 291,
   "metadata": {
    "collapsed": false,
    "deletable": true,
    "editable": true,
    "scrolled": true
   },
   "outputs": [
    {
     "name": "stdout",
     "output_type": "stream",
     "text": [
      "Checking the Training on a Single Batch...\n",
      "Epoch  1, CIFAR-10 Batch 1:  Loss  2.38344e+06 , Accurary 0.1792\n",
      "Epoch  2, CIFAR-10 Batch 1:  Loss  1.35396e+06 , Accurary 0.2128\n",
      "Epoch  3, CIFAR-10 Batch 1:  Loss  952116.0 , Accurary 0.2258\n",
      "Epoch  4, CIFAR-10 Batch 1:  Loss  753785.0 , Accurary 0.2372\n",
      "Epoch  5, CIFAR-10 Batch 1:  Loss  580174.0 , Accurary 0.247\n",
      "Epoch  6, CIFAR-10 Batch 1:  Loss  478462.0 , Accurary 0.2544\n",
      "Epoch  7, CIFAR-10 Batch 1:  Loss  356906.0 , Accurary 0.2576\n",
      "Epoch  8, CIFAR-10 Batch 1:  Loss  273788.0 , Accurary 0.265\n",
      "Epoch  9, CIFAR-10 Batch 1:  Loss  252207.0 , Accurary 0.27\n",
      "Epoch 10, CIFAR-10 Batch 1:  Loss  189938.0 , Accurary 0.273\n",
      "Epoch 11, CIFAR-10 Batch 1:  Loss  165688.0 , Accurary 0.274\n",
      "Epoch 12, CIFAR-10 Batch 1:  Loss  143687.0 , Accurary 0.2756\n",
      "Epoch 13, CIFAR-10 Batch 1:  Loss  131580.0 , Accurary 0.2762\n",
      "Epoch 14, CIFAR-10 Batch 1:  Loss  115510.0 , Accurary 0.2836\n",
      "Epoch 15, CIFAR-10 Batch 1:  Loss  91804.5 , Accurary 0.2834\n",
      "Epoch 16, CIFAR-10 Batch 1:  Loss  81010.1 , Accurary 0.2798\n",
      "Epoch 17, CIFAR-10 Batch 1:  Loss  83600.7 , Accurary 0.2856\n",
      "Epoch 18, CIFAR-10 Batch 1:  Loss  90132.3 , Accurary 0.2932\n",
      "Epoch 19, CIFAR-10 Batch 1:  Loss  57710.1 , Accurary 0.2996\n",
      "Epoch 20, CIFAR-10 Batch 1:  Loss  50217.8 , Accurary 0.3038\n",
      "Epoch 21, CIFAR-10 Batch 1:  Loss  45492.9 , Accurary 0.3024\n",
      "Epoch 22, CIFAR-10 Batch 1:  Loss  32705.7 , Accurary 0.304\n",
      "Epoch 23, CIFAR-10 Batch 1:  Loss  31597.5 , Accurary 0.3052\n",
      "Epoch 24, CIFAR-10 Batch 1:  Loss  25110.1 , Accurary 0.3118\n",
      "Epoch 25, CIFAR-10 Batch 1:  Loss  20243.3 , Accurary 0.3106\n",
      "Epoch 26, CIFAR-10 Batch 1:  Loss  17650.1 , Accurary 0.3158\n",
      "Epoch 27, CIFAR-10 Batch 1:  Loss  22764.8 , Accurary 0.3132\n",
      "Epoch 28, CIFAR-10 Batch 1:  Loss  24901.6 , Accurary 0.3058\n",
      "Epoch 29, CIFAR-10 Batch 1:  Loss  11176.6 , Accurary 0.3168\n",
      "Epoch 30, CIFAR-10 Batch 1:  Loss  8542.77 , Accurary 0.321\n",
      "Epoch 31, CIFAR-10 Batch 1:  Loss  6078.64 , Accurary 0.322\n",
      "Epoch 32, CIFAR-10 Batch 1:  Loss  5119.39 , Accurary 0.3206\n",
      "Epoch 33, CIFAR-10 Batch 1:  Loss  18187.8 , Accurary 0.308\n",
      "Epoch 34, CIFAR-10 Batch 1:  Loss  14733.6 , Accurary 0.3096\n",
      "Epoch 35, CIFAR-10 Batch 1:  Loss  9085.68 , Accurary 0.3074\n",
      "Epoch 36, CIFAR-10 Batch 1:  Loss  5865.9 , Accurary 0.3122\n",
      "Epoch 37, CIFAR-10 Batch 1:  Loss  9688.22 , Accurary 0.3058\n",
      "Epoch 38, CIFAR-10 Batch 1:  Loss  12305.8 , Accurary 0.3058\n",
      "Epoch 39, CIFAR-10 Batch 1:  Loss  14004.3 , Accurary 0.3084\n",
      "Epoch 40, CIFAR-10 Batch 1:  Loss  9896.86 , Accurary 0.3176\n",
      "Epoch 41, CIFAR-10 Batch 1:  Loss  2057.45 , Accurary 0.3224\n",
      "Epoch 42, CIFAR-10 Batch 1:  Loss  4922.45 , Accurary 0.3266\n",
      "Epoch 43, CIFAR-10 Batch 1:  Loss  5406.93 , Accurary 0.3216\n",
      "Epoch 44, CIFAR-10 Batch 1:  Loss  7959.41 , Accurary 0.3252\n",
      "Epoch 45, CIFAR-10 Batch 1:  Loss  3789.01 , Accurary 0.328\n",
      "Epoch 46, CIFAR-10 Batch 1:  Loss  4635.32 , Accurary 0.3312\n",
      "Epoch 47, CIFAR-10 Batch 1:  Loss  2729.32 , Accurary 0.3308\n",
      "Epoch 48, CIFAR-10 Batch 1:  Loss  6456.3 , Accurary 0.3186\n",
      "Epoch 49, CIFAR-10 Batch 1:  Loss  5893.47 , Accurary 0.3208\n",
      "Epoch 50, CIFAR-10 Batch 1:  Loss  10166.5 , Accurary 0.319\n",
      "Epoch 51, CIFAR-10 Batch 1:  Loss  3844.42 , Accurary 0.3284\n",
      "Epoch 52, CIFAR-10 Batch 1:  Loss  3734.24 , Accurary 0.3236\n",
      "Epoch 53, CIFAR-10 Batch 1:  Loss  24.6656 , Accurary 0.3246\n",
      "Epoch 54, CIFAR-10 Batch 1:  Loss  1188.55 , Accurary 0.3226\n",
      "Epoch 55, CIFAR-10 Batch 1:  Loss  3155.42 , Accurary 0.3206\n",
      "Epoch 56, CIFAR-10 Batch 1:  Loss  6404.2 , Accurary 0.3062\n",
      "Epoch 57, CIFAR-10 Batch 1:  Loss  8628.76 , Accurary 0.3064\n",
      "Epoch 58, CIFAR-10 Batch 1:  Loss  4309.46 , Accurary 0.3068\n",
      "Epoch 59, CIFAR-10 Batch 1:  Loss  3738.49 , Accurary 0.3102\n",
      "Epoch 60, CIFAR-10 Batch 1:  Loss  5517.59 , Accurary 0.3062\n",
      "Epoch 61, CIFAR-10 Batch 1:  Loss  6119.47 , Accurary 0.3032\n",
      "Epoch 62, CIFAR-10 Batch 1:  Loss  13177.8 , Accurary 0.3056\n",
      "Epoch 63, CIFAR-10 Batch 1:  Loss  95.8578 , Accurary 0.3232\n",
      "Epoch 64, CIFAR-10 Batch 1:  Loss  1606.75 , Accurary 0.3284\n",
      "Epoch 65, CIFAR-10 Batch 1:  Loss  1999.97 , Accurary 0.336\n",
      "Epoch 66, CIFAR-10 Batch 1:  Loss  2733.05 , Accurary 0.3392\n",
      "Epoch 67, CIFAR-10 Batch 1:  Loss  3819.11 , Accurary 0.3412\n",
      "Epoch 68, CIFAR-10 Batch 1:  Loss  1572.74 , Accurary 0.3326\n",
      "Epoch 69, CIFAR-10 Batch 1:  Loss  0.0 , Accurary 0.3456\n",
      "Epoch 70, CIFAR-10 Batch 1:  Loss  0.0 , Accurary 0.3432\n",
      "Epoch 71, CIFAR-10 Batch 1:  Loss  2498.44 , Accurary 0.3472\n",
      "Epoch 72, CIFAR-10 Batch 1:  Loss  0.0 , Accurary 0.3442\n",
      "Epoch 73, CIFAR-10 Batch 1:  Loss  2003.87 , Accurary 0.3384\n",
      "Epoch 74, CIFAR-10 Batch 1:  Loss  3245.68 , Accurary 0.3326\n",
      "Epoch 75, CIFAR-10 Batch 1:  Loss  3064.24 , Accurary 0.3156\n",
      "Epoch 76, CIFAR-10 Batch 1:  Loss  4212.65 , Accurary 0.3302\n",
      "Epoch 77, CIFAR-10 Batch 1:  Loss  1552.83 , Accurary 0.3348\n",
      "Epoch 78, CIFAR-10 Batch 1:  Loss  867.866 , Accurary 0.3472\n",
      "Epoch 79, CIFAR-10 Batch 1:  Loss  1198.31 , Accurary 0.3496\n",
      "Epoch 80, CIFAR-10 Batch 1:  Loss  480.341 , Accurary 0.343\n",
      "Epoch 81, CIFAR-10 Batch 1:  Loss  2280.59 , Accurary 0.3398\n",
      "Epoch 82, CIFAR-10 Batch 1:  Loss  4601.26 , Accurary 0.3316\n",
      "Epoch 83, CIFAR-10 Batch 1:  Loss  0.0 , Accurary 0.343\n",
      "Epoch 84, CIFAR-10 Batch 1:  Loss  546.47 , Accurary 0.3386\n",
      "Epoch 85, CIFAR-10 Batch 1:  Loss  0.0 , Accurary 0.3352\n",
      "Epoch 86, CIFAR-10 Batch 1:  Loss  1047.0 , Accurary 0.3396\n",
      "Epoch 87, CIFAR-10 Batch 1:  Loss  0.0 , Accurary 0.3428\n",
      "Epoch 88, CIFAR-10 Batch 1:  Loss  158.012 , Accurary 0.339\n",
      "Epoch 89, CIFAR-10 Batch 1:  Loss  1038.46 , Accurary 0.34\n",
      "Epoch 90, CIFAR-10 Batch 1:  Loss  0.0 , Accurary 0.3386\n",
      "Epoch 91, CIFAR-10 Batch 1:  Loss  102.015 , Accurary 0.3412\n",
      "Epoch 92, CIFAR-10 Batch 1:  Loss  80.5578 , Accurary 0.3296\n",
      "Epoch 93, CIFAR-10 Batch 1:  Loss  704.386 , Accurary 0.326\n",
      "Epoch 94, CIFAR-10 Batch 1:  Loss  30.2828 , Accurary 0.3318\n",
      "Epoch 95, CIFAR-10 Batch 1:  Loss  386.487 , Accurary 0.338\n",
      "Epoch 96, CIFAR-10 Batch 1:  Loss  0.0 , Accurary 0.3348\n",
      "Epoch 97, CIFAR-10 Batch 1:  Loss  169.165 , Accurary 0.3378\n",
      "Epoch 98, CIFAR-10 Batch 1:  Loss  0.0 , Accurary 0.3402\n",
      "Epoch 99, CIFAR-10 Batch 1:  Loss  268.494 , Accurary 0.3462\n",
      "Epoch 100, CIFAR-10 Batch 1:  Loss  1924.32 , Accurary 0.3496\n"
     ]
    }
   ],
   "source": [
    "\"\"\"\n",
    "DON'T MODIFY ANYTHING IN THIS CELL\n",
    "\"\"\"\n",
    "print('Checking the Training on a Single Batch...')\n",
    "with tf.Session() as sess:\n",
    "    # Initializing the variables\n",
    "    \n",
    "    sess.run(tf.global_variables_initializer())\n",
    "    # Training cycle\n",
    "    for epoch in range(epochs):\n",
    "        batch_i = 1\n",
    "        for batch_features, batch_labels in helper.load_preprocess_training_batch(batch_i, batch_size):\n",
    "            train_neural_network(sess, optimizer, keep_probability, batch_features, batch_labels)\n",
    "        print('Epoch {:>2}, CIFAR-10 Batch {}:  '.format(epoch + 1, batch_i), end='')\n",
    "        print_stats(sess, batch_features, batch_labels, cost, accuracy)"
   ]
  },
  {
   "cell_type": "markdown",
   "metadata": {
    "deletable": true,
    "editable": true
   },
   "source": [
    "### Fully Train the Model\n",
    "Now that you got a good accuracy with a single CIFAR-10 batch, try it with all five batches."
   ]
  },
  {
   "cell_type": "code",
   "execution_count": 296,
   "metadata": {
    "collapsed": false,
    "deletable": true,
    "editable": true,
    "scrolled": true
   },
   "outputs": [
    {
     "name": "stdout",
     "output_type": "stream",
     "text": [
      "Training...\n",
      "Epoch  1, CIFAR-10 Batch 1:  Loss  8.50491e+06 , Accurary 0.2112\n",
      "Epoch  1, CIFAR-10 Batch 2:  Loss  4.96444e+06 , Accurary 0.23\n",
      "Epoch  1, CIFAR-10 Batch 3:  Loss  3.34043e+06 , Accurary 0.2424\n",
      "Epoch  1, CIFAR-10 Batch 4:  Loss  3.14391e+06 , Accurary 0.2676\n",
      "Epoch  1, CIFAR-10 Batch 5:  Loss  3.19788e+06 , Accurary 0.2818\n",
      "Epoch  2, CIFAR-10 Batch 1:  Loss  2.12795e+06 , Accurary 0.2978\n",
      "Epoch  2, CIFAR-10 Batch 2:  Loss  2.14355e+06 , Accurary 0.2958\n",
      "Epoch  2, CIFAR-10 Batch 3:  Loss  1.43154e+06 , Accurary 0.307\n",
      "Epoch  2, CIFAR-10 Batch 4:  Loss  1.50001e+06 , Accurary 0.3112\n",
      "Epoch  2, CIFAR-10 Batch 5:  Loss  1.48813e+06 , Accurary 0.3226\n",
      "Epoch  3, CIFAR-10 Batch 1:  Loss  1.14956e+06 , Accurary 0.332\n",
      "Epoch  3, CIFAR-10 Batch 2:  Loss  1.14289e+06 , Accurary 0.3258\n",
      "Epoch  3, CIFAR-10 Batch 3:  Loss  908692.0 , Accurary 0.323\n",
      "Epoch  3, CIFAR-10 Batch 4:  Loss  917088.0 , Accurary 0.3384\n",
      "Epoch  3, CIFAR-10 Batch 5:  Loss  888942.0 , Accurary 0.3414\n",
      "Epoch  4, CIFAR-10 Batch 1:  Loss  753698.0 , Accurary 0.3428\n",
      "Epoch  4, CIFAR-10 Batch 2:  Loss  538894.0 , Accurary 0.35\n",
      "Epoch  4, CIFAR-10 Batch 3:  Loss  362793.0 , Accurary 0.3442\n",
      "Epoch  4, CIFAR-10 Batch 4:  Loss  655992.0 , Accurary 0.3538\n",
      "Epoch  4, CIFAR-10 Batch 5:  Loss  484510.0 , Accurary 0.351\n",
      "Epoch  5, CIFAR-10 Batch 1:  Loss  475720.0 , Accurary 0.3566\n",
      "Epoch  5, CIFAR-10 Batch 2:  Loss  379783.0 , Accurary 0.3636\n",
      "Epoch  5, CIFAR-10 Batch 3:  Loss  308257.0 , Accurary 0.3492\n",
      "Epoch  5, CIFAR-10 Batch 4:  Loss  427646.0 , Accurary 0.3554\n",
      "Epoch  5, CIFAR-10 Batch 5:  Loss  342368.0 , Accurary 0.3524\n",
      "Epoch  6, CIFAR-10 Batch 1:  Loss  291135.0 , Accurary 0.3658\n",
      "Epoch  6, CIFAR-10 Batch 2:  Loss  193554.0 , Accurary 0.3644\n",
      "Epoch  6, CIFAR-10 Batch 3:  Loss  226431.0 , Accurary 0.3526\n",
      "Epoch  6, CIFAR-10 Batch 4:  Loss  223288.0 , Accurary 0.3632\n",
      "Epoch  6, CIFAR-10 Batch 5:  Loss  257473.0 , Accurary 0.369\n",
      "Epoch  7, CIFAR-10 Batch 1:  Loss  233898.0 , Accurary 0.374\n",
      "Epoch  7, CIFAR-10 Batch 2:  Loss  86191.4 , Accurary 0.3802\n",
      "Epoch  7, CIFAR-10 Batch 3:  Loss  152137.0 , Accurary 0.3752\n",
      "Epoch  7, CIFAR-10 Batch 4:  Loss  150145.0 , Accurary 0.3752\n",
      "Epoch  7, CIFAR-10 Batch 5:  Loss  168413.0 , Accurary 0.3776\n",
      "Epoch  8, CIFAR-10 Batch 1:  Loss  196386.0 , Accurary 0.3826\n",
      "Epoch  8, CIFAR-10 Batch 2:  Loss  114434.0 , Accurary 0.3856\n",
      "Epoch  8, CIFAR-10 Batch 3:  Loss  113542.0 , Accurary 0.377\n",
      "Epoch  8, CIFAR-10 Batch 4:  Loss  133912.0 , Accurary 0.367\n",
      "Epoch  8, CIFAR-10 Batch 5:  Loss  129433.0 , Accurary 0.3812\n",
      "Epoch  9, CIFAR-10 Batch 1:  Loss  171738.0 , Accurary 0.3898\n",
      "Epoch  9, CIFAR-10 Batch 2:  Loss  103881.0 , Accurary 0.3886\n",
      "Epoch  9, CIFAR-10 Batch 3:  Loss  105578.0 , Accurary 0.3806\n",
      "Epoch  9, CIFAR-10 Batch 4:  Loss  64793.0 , Accurary 0.3768\n",
      "Epoch  9, CIFAR-10 Batch 5:  Loss  84002.1 , Accurary 0.3944\n",
      "Epoch 10, CIFAR-10 Batch 1:  Loss  136442.0 , Accurary 0.3944\n",
      "Epoch 10, CIFAR-10 Batch 2:  Loss  69046.9 , Accurary 0.3958\n",
      "Epoch 10, CIFAR-10 Batch 3:  Loss  64541.2 , Accurary 0.3776\n",
      "Epoch 10, CIFAR-10 Batch 4:  Loss  36201.6 , Accurary 0.3898\n",
      "Epoch 10, CIFAR-10 Batch 5:  Loss  42507.9 , Accurary 0.3954\n",
      "Epoch 11, CIFAR-10 Batch 1:  Loss  114395.0 , Accurary 0.4006\n",
      "Epoch 11, CIFAR-10 Batch 2:  Loss  43218.3 , Accurary 0.3952\n",
      "Epoch 11, CIFAR-10 Batch 3:  Loss  34314.6 , Accurary 0.3914\n",
      "Epoch 11, CIFAR-10 Batch 4:  Loss  18768.9 , Accurary 0.3882\n",
      "Epoch 11, CIFAR-10 Batch 5:  Loss  54251.0 , Accurary 0.3876\n",
      "Epoch 12, CIFAR-10 Batch 1:  Loss  94601.7 , Accurary 0.3914\n",
      "Epoch 12, CIFAR-10 Batch 2:  Loss  42161.4 , Accurary 0.384\n",
      "Epoch 12, CIFAR-10 Batch 3:  Loss  41613.2 , Accurary 0.3902\n",
      "Epoch 12, CIFAR-10 Batch 4:  Loss  31002.2 , Accurary 0.3904\n",
      "Epoch 12, CIFAR-10 Batch 5:  Loss  59825.5 , Accurary 0.3838\n",
      "Epoch 13, CIFAR-10 Batch 1:  Loss  76422.9 , Accurary 0.3906\n",
      "Epoch 13, CIFAR-10 Batch 2:  Loss  22950.3 , Accurary 0.4034\n",
      "Epoch 13, CIFAR-10 Batch 3:  Loss  26974.7 , Accurary 0.3932\n",
      "Epoch 13, CIFAR-10 Batch 4:  Loss  19614.7 , Accurary 0.3994\n",
      "Epoch 13, CIFAR-10 Batch 5:  Loss  42288.3 , Accurary 0.3836\n",
      "Epoch 14, CIFAR-10 Batch 1:  Loss  70738.9 , Accurary 0.3942\n",
      "Epoch 14, CIFAR-10 Batch 2:  Loss  26854.5 , Accurary 0.4044\n",
      "Epoch 14, CIFAR-10 Batch 3:  Loss  29793.0 , Accurary 0.3886\n",
      "Epoch 14, CIFAR-10 Batch 4:  Loss  18274.8 , Accurary 0.404\n",
      "Epoch 14, CIFAR-10 Batch 5:  Loss  42669.1 , Accurary 0.3968\n",
      "Epoch 15, CIFAR-10 Batch 1:  Loss  65477.1 , Accurary 0.4034\n",
      "Epoch 15, CIFAR-10 Batch 2:  Loss  38466.2 , Accurary 0.394\n",
      "Epoch 15, CIFAR-10 Batch 3:  Loss  15537.9 , Accurary 0.3878\n",
      "Epoch 15, CIFAR-10 Batch 4:  Loss  14784.5 , Accurary 0.4126\n",
      "Epoch 15, CIFAR-10 Batch 5:  Loss  31446.9 , Accurary 0.403\n",
      "Epoch 16, CIFAR-10 Batch 1:  Loss  42668.9 , Accurary 0.397\n",
      "Epoch 16, CIFAR-10 Batch 2:  Loss  17670.9 , Accurary 0.4042\n",
      "Epoch 16, CIFAR-10 Batch 3:  Loss  17884.3 , Accurary 0.398\n",
      "Epoch 16, CIFAR-10 Batch 4:  Loss  20378.2 , Accurary 0.4012\n",
      "Epoch 16, CIFAR-10 Batch 5:  Loss  28619.6 , Accurary 0.4002\n",
      "Epoch 17, CIFAR-10 Batch 1:  Loss  45215.3 , Accurary 0.403\n",
      "Epoch 17, CIFAR-10 Batch 2:  Loss  24402.7 , Accurary 0.3952\n",
      "Epoch 17, CIFAR-10 Batch 3:  Loss  11223.9 , Accurary 0.4008\n",
      "Epoch 17, CIFAR-10 Batch 4:  Loss  11403.0 , Accurary 0.3956\n",
      "Epoch 17, CIFAR-10 Batch 5:  Loss  19318.8 , Accurary 0.401\n",
      "Epoch 18, CIFAR-10 Batch 1:  Loss  44119.7 , Accurary 0.3978\n",
      "Epoch 18, CIFAR-10 Batch 2:  Loss  19917.6 , Accurary 0.398\n",
      "Epoch 18, CIFAR-10 Batch 3:  Loss  7913.53 , Accurary 0.3962\n",
      "Epoch 18, CIFAR-10 Batch 4:  Loss  13583.0 , Accurary 0.4028\n",
      "Epoch 18, CIFAR-10 Batch 5:  Loss  18519.0 , Accurary 0.4064\n",
      "Epoch 19, CIFAR-10 Batch 1:  Loss  33168.4 , Accurary 0.4024\n",
      "Epoch 19, CIFAR-10 Batch 2:  Loss  35407.3 , Accurary 0.3732\n",
      "Epoch 19, CIFAR-10 Batch 3:  Loss  19731.1 , Accurary 0.3948\n",
      "Epoch 19, CIFAR-10 Batch 4:  Loss  19322.3 , Accurary 0.402\n",
      "Epoch 19, CIFAR-10 Batch 5:  Loss  15401.9 , Accurary 0.3994\n",
      "Epoch 20, CIFAR-10 Batch 1:  Loss  29178.1 , Accurary 0.415\n",
      "Epoch 20, CIFAR-10 Batch 2:  Loss  15380.2 , Accurary 0.396\n",
      "Epoch 20, CIFAR-10 Batch 3:  Loss  6164.93 , Accurary 0.4006\n",
      "Epoch 20, CIFAR-10 Batch 4:  Loss  6795.98 , Accurary 0.4106\n",
      "Epoch 20, CIFAR-10 Batch 5:  Loss  16276.3 , Accurary 0.4104\n",
      "Epoch 21, CIFAR-10 Batch 1:  Loss  35631.9 , Accurary 0.408\n",
      "Epoch 21, CIFAR-10 Batch 2:  Loss  39753.9 , Accurary 0.3688\n",
      "Epoch 21, CIFAR-10 Batch 3:  Loss  6388.98 , Accurary 0.3946\n",
      "Epoch 21, CIFAR-10 Batch 4:  Loss  5671.23 , Accurary 0.416\n",
      "Epoch 21, CIFAR-10 Batch 5:  Loss  12859.8 , Accurary 0.4024\n",
      "Epoch 22, CIFAR-10 Batch 1:  Loss  31305.4 , Accurary 0.3952\n",
      "Epoch 22, CIFAR-10 Batch 2:  Loss  27548.1 , Accurary 0.39\n",
      "Epoch 22, CIFAR-10 Batch 3:  Loss  6203.16 , Accurary 0.4052\n",
      "Epoch 22, CIFAR-10 Batch 4:  Loss  14260.5 , Accurary 0.4088\n",
      "Epoch 22, CIFAR-10 Batch 5:  Loss  9440.73 , Accurary 0.4062\n",
      "Epoch 23, CIFAR-10 Batch 1:  Loss  27768.7 , Accurary 0.4032\n",
      "Epoch 23, CIFAR-10 Batch 2:  Loss  17547.1 , Accurary 0.3882\n",
      "Epoch 23, CIFAR-10 Batch 3:  Loss  13351.6 , Accurary 0.3904\n",
      "Epoch 23, CIFAR-10 Batch 4:  Loss  10777.3 , Accurary 0.4028\n",
      "Epoch 23, CIFAR-10 Batch 5:  Loss  19411.3 , Accurary 0.3922\n",
      "Epoch 24, CIFAR-10 Batch 1:  Loss  27032.1 , Accurary 0.4094\n",
      "Epoch 24, CIFAR-10 Batch 2:  Loss  17043.2 , Accurary 0.3754\n",
      "Epoch 24, CIFAR-10 Batch 3:  Loss  8795.35 , Accurary 0.3854\n",
      "Epoch 24, CIFAR-10 Batch 4:  Loss  6472.14 , Accurary 0.4122\n",
      "Epoch 24, CIFAR-10 Batch 5:  Loss  20098.4 , Accurary 0.3694\n",
      "Epoch 25, CIFAR-10 Batch 1:  Loss  20737.9 , Accurary 0.4216\n",
      "Epoch 25, CIFAR-10 Batch 2:  Loss  38095.3 , Accurary 0.3686\n",
      "Epoch 25, CIFAR-10 Batch 3:  Loss  2931.81 , Accurary 0.4042\n",
      "Epoch 25, CIFAR-10 Batch 4:  Loss  29456.4 , Accurary 0.371\n",
      "Epoch 25, CIFAR-10 Batch 5:  Loss  11984.6 , Accurary 0.4094\n",
      "Epoch 26, CIFAR-10 Batch 1:  Loss  12823.7 , Accurary 0.4212\n",
      "Epoch 26, CIFAR-10 Batch 2:  Loss  24889.3 , Accurary 0.3772\n",
      "Epoch 26, CIFAR-10 Batch 3:  Loss  11211.4 , Accurary 0.3898\n",
      "Epoch 26, CIFAR-10 Batch 4:  Loss  26226.4 , Accurary 0.362\n",
      "Epoch 26, CIFAR-10 Batch 5:  Loss  9527.13 , Accurary 0.4018\n",
      "Epoch 27, CIFAR-10 Batch 1:  Loss  12808.0 , Accurary 0.4054\n",
      "Epoch 27, CIFAR-10 Batch 2:  Loss  17463.1 , Accurary 0.381\n",
      "Epoch 27, CIFAR-10 Batch 3:  Loss  20046.9 , Accurary 0.3864\n",
      "Epoch 27, CIFAR-10 Batch 4:  Loss  22647.0 , Accurary 0.373\n",
      "Epoch 27, CIFAR-10 Batch 5:  Loss  17573.5 , Accurary 0.4028\n",
      "Epoch 28, CIFAR-10 Batch 1:  Loss  19354.5 , Accurary 0.3982\n",
      "Epoch 28, CIFAR-10 Batch 2:  Loss  17942.1 , Accurary 0.3756\n",
      "Epoch 28, CIFAR-10 Batch 3:  Loss  639.487 , Accurary 0.4076\n",
      "Epoch 28, CIFAR-10 Batch 4:  Loss  6224.27 , Accurary 0.398\n",
      "Epoch 28, CIFAR-10 Batch 5:  Loss  28342.8 , Accurary 0.3856\n",
      "Epoch 29, CIFAR-10 Batch 1:  Loss  23362.0 , Accurary 0.3832\n",
      "Epoch 29, CIFAR-10 Batch 2:  Loss  15653.5 , Accurary 0.3846\n",
      "Epoch 29, CIFAR-10 Batch 3:  Loss  7685.54 , Accurary 0.4152\n",
      "Epoch 29, CIFAR-10 Batch 4:  Loss  3733.1 , Accurary 0.3968\n",
      "Epoch 29, CIFAR-10 Batch 5:  Loss  12756.9 , Accurary 0.4088\n",
      "Epoch 30, CIFAR-10 Batch 1:  Loss  9228.84 , Accurary 0.4092\n",
      "Epoch 30, CIFAR-10 Batch 2:  Loss  4801.98 , Accurary 0.409\n",
      "Epoch 30, CIFAR-10 Batch 3:  Loss  6830.71 , Accurary 0.4038\n",
      "Epoch 30, CIFAR-10 Batch 4:  Loss  10219.2 , Accurary 0.3784\n",
      "Epoch 30, CIFAR-10 Batch 5:  Loss  8931.53 , Accurary 0.4166\n",
      "Epoch 31, CIFAR-10 Batch 1:  Loss  10445.8 , Accurary 0.409\n",
      "Epoch 31, CIFAR-10 Batch 2:  Loss  12402.8 , Accurary 0.39\n",
      "Epoch 31, CIFAR-10 Batch 3:  Loss  9793.45 , Accurary 0.3962\n",
      "Epoch 31, CIFAR-10 Batch 4:  Loss  4217.53 , Accurary 0.3856\n",
      "Epoch 31, CIFAR-10 Batch 5:  Loss  10766.3 , Accurary 0.4036\n",
      "Epoch 32, CIFAR-10 Batch 1:  Loss  9026.71 , Accurary 0.4016\n",
      "Epoch 32, CIFAR-10 Batch 2:  Loss  6979.34 , Accurary 0.4062\n",
      "Epoch 32, CIFAR-10 Batch 3:  Loss  4640.78 , Accurary 0.4016\n",
      "Epoch 32, CIFAR-10 Batch 4:  Loss  2816.02 , Accurary 0.4002\n",
      "Epoch 32, CIFAR-10 Batch 5:  Loss  7490.65 , Accurary 0.408\n",
      "Epoch 33, CIFAR-10 Batch 1:  Loss  20674.5 , Accurary 0.375\n",
      "Epoch 33, CIFAR-10 Batch 2:  Loss  11298.6 , Accurary 0.3842\n",
      "Epoch 33, CIFAR-10 Batch 3:  Loss  8387.54 , Accurary 0.3822\n",
      "Epoch 33, CIFAR-10 Batch 4:  Loss  5250.93 , Accurary 0.3978\n",
      "Epoch 33, CIFAR-10 Batch 5:  Loss  13241.0 , Accurary 0.4004\n",
      "Epoch 34, CIFAR-10 Batch 1:  Loss  12084.2 , Accurary 0.393\n",
      "Epoch 34, CIFAR-10 Batch 2:  Loss  12337.2 , Accurary 0.3872\n",
      "Epoch 34, CIFAR-10 Batch 3:  Loss  2934.78 , Accurary 0.404\n",
      "Epoch 34, CIFAR-10 Batch 4:  Loss  10467.8 , Accurary 0.3702\n",
      "Epoch 34, CIFAR-10 Batch 5:  Loss  9624.4 , Accurary 0.4054\n",
      "Epoch 35, CIFAR-10 Batch 1:  Loss  9205.11 , Accurary 0.3868\n",
      "Epoch 35, CIFAR-10 Batch 2:  Loss  8864.21 , Accurary 0.3994\n",
      "Epoch 35, CIFAR-10 Batch 3:  Loss  4297.47 , Accurary 0.403\n",
      "Epoch 35, CIFAR-10 Batch 4:  Loss  3198.08 , Accurary 0.3878\n",
      "Epoch 35, CIFAR-10 Batch 5:  Loss  16236.8 , Accurary 0.3844\n",
      "Epoch 36, CIFAR-10 Batch 1:  Loss  17295.8 , Accurary 0.3808\n",
      "Epoch 36, CIFAR-10 Batch 2:  Loss  8862.91 , Accurary 0.3974\n",
      "Epoch 36, CIFAR-10 Batch 3:  Loss  2273.19 , Accurary 0.403\n",
      "Epoch 36, CIFAR-10 Batch 4:  Loss  3188.41 , Accurary 0.38\n",
      "Epoch 36, CIFAR-10 Batch 5:  Loss  10088.0 , Accurary 0.4012\n",
      "Epoch 37, CIFAR-10 Batch 1:  Loss  5858.26 , Accurary 0.4054\n",
      "Epoch 37, CIFAR-10 Batch 2:  Loss  7421.87 , Accurary 0.3808\n",
      "Epoch 37, CIFAR-10 Batch 3:  Loss  6785.25 , Accurary 0.3766\n",
      "Epoch 37, CIFAR-10 Batch 4:  Loss  6899.42 , Accurary 0.382\n",
      "Epoch 37, CIFAR-10 Batch 5:  Loss  3836.3 , Accurary 0.4018\n",
      "Epoch 38, CIFAR-10 Batch 1:  Loss  7561.76 , Accurary 0.3904\n",
      "Epoch 38, CIFAR-10 Batch 2:  Loss  10839.3 , Accurary 0.3736\n",
      "Epoch 38, CIFAR-10 Batch 3:  Loss  4525.13 , Accurary 0.4044\n",
      "Epoch 38, CIFAR-10 Batch 4:  Loss  1365.45 , Accurary 0.4056\n",
      "Epoch 38, CIFAR-10 Batch 5:  Loss  7873.11 , Accurary 0.3922\n",
      "Epoch 39, CIFAR-10 Batch 1:  Loss  1933.51 , Accurary 0.4068\n",
      "Epoch 39, CIFAR-10 Batch 2:  Loss  9457.63 , Accurary 0.3722\n",
      "Epoch 39, CIFAR-10 Batch 3:  Loss  8909.77 , Accurary 0.376\n",
      "Epoch 39, CIFAR-10 Batch 4:  Loss  3210.95 , Accurary 0.401\n",
      "Epoch 39, CIFAR-10 Batch 5:  Loss  23536.4 , Accurary 0.3732\n",
      "Epoch 40, CIFAR-10 Batch 1:  Loss  15685.5 , Accurary 0.3696\n",
      "Epoch 40, CIFAR-10 Batch 2:  Loss  11395.4 , Accurary 0.3828\n",
      "Epoch 40, CIFAR-10 Batch 3:  Loss  8645.3 , Accurary 0.3752\n",
      "Epoch 40, CIFAR-10 Batch 4:  Loss  14801.6 , Accurary 0.372\n",
      "Epoch 40, CIFAR-10 Batch 5:  Loss  12705.4 , Accurary 0.4004\n",
      "Epoch 41, CIFAR-10 Batch 1:  Loss  9481.05 , Accurary 0.3878\n",
      "Epoch 41, CIFAR-10 Batch 2:  Loss  2763.63 , Accurary 0.3988\n",
      "Epoch 41, CIFAR-10 Batch 3:  Loss  5927.36 , Accurary 0.3586\n",
      "Epoch 41, CIFAR-10 Batch 4:  Loss  11783.8 , Accurary 0.3852\n",
      "Epoch 41, CIFAR-10 Batch 5:  Loss  3871.17 , Accurary 0.4172\n",
      "Epoch 42, CIFAR-10 Batch 1:  Loss  12343.7 , Accurary 0.37\n",
      "Epoch 42, CIFAR-10 Batch 2:  Loss  2435.56 , Accurary 0.3936\n",
      "Epoch 42, CIFAR-10 Batch 3:  Loss  5909.46 , Accurary 0.3624\n",
      "Epoch 42, CIFAR-10 Batch 4:  Loss  4448.79 , Accurary 0.4012\n",
      "Epoch 42, CIFAR-10 Batch 5:  Loss  11826.8 , Accurary 0.4112\n",
      "Epoch 43, CIFAR-10 Batch 1:  Loss  10373.7 , Accurary 0.3628\n",
      "Epoch 43, CIFAR-10 Batch 2:  Loss  7222.57 , Accurary 0.3878\n",
      "Epoch 43, CIFAR-10 Batch 3:  Loss  8109.64 , Accurary 0.3616\n",
      "Epoch 43, CIFAR-10 Batch 4:  Loss  3960.77 , Accurary 0.4078\n",
      "Epoch 43, CIFAR-10 Batch 5:  Loss  12792.3 , Accurary 0.3842\n",
      "Epoch 44, CIFAR-10 Batch 1:  Loss  10876.0 , Accurary 0.3864\n",
      "Epoch 44, CIFAR-10 Batch 2:  Loss  7421.61 , Accurary 0.4062\n",
      "Epoch 44, CIFAR-10 Batch 3:  Loss  400.186 , Accurary 0.3582\n",
      "Epoch 44, CIFAR-10 Batch 4:  Loss  4353.23 , Accurary 0.4282\n",
      "Epoch 44, CIFAR-10 Batch 5:  Loss  11517.2 , Accurary 0.3648\n",
      "Epoch 45, CIFAR-10 Batch 1:  Loss  4512.43 , Accurary 0.4218\n",
      "Epoch 45, CIFAR-10 Batch 2:  Loss  6417.44 , Accurary 0.4002\n",
      "Epoch 45, CIFAR-10 Batch 3:  Loss  4467.66 , Accurary 0.3544\n",
      "Epoch 45, CIFAR-10 Batch 4:  Loss  4786.96 , Accurary 0.4048\n",
      "Epoch 45, CIFAR-10 Batch 5:  Loss  9081.03 , Accurary 0.3778\n",
      "Epoch 46, CIFAR-10 Batch 1:  Loss  8692.39 , Accurary 0.4146\n",
      "Epoch 46, CIFAR-10 Batch 2:  Loss  2308.39 , Accurary 0.3936\n",
      "Epoch 46, CIFAR-10 Batch 3:  Loss  1942.52 , Accurary 0.3706\n",
      "Epoch 46, CIFAR-10 Batch 4:  Loss  1533.15 , Accurary 0.4114\n",
      "Epoch 46, CIFAR-10 Batch 5:  Loss  9725.37 , Accurary 0.3788\n",
      "Epoch 47, CIFAR-10 Batch 1:  Loss  3345.6 , Accurary 0.4266\n",
      "Epoch 47, CIFAR-10 Batch 2:  Loss  2116.21 , Accurary 0.3932\n",
      "Epoch 47, CIFAR-10 Batch 3:  Loss  2572.96 , Accurary 0.3914\n",
      "Epoch 47, CIFAR-10 Batch 4:  Loss  1474.0 , Accurary 0.402\n",
      "Epoch 47, CIFAR-10 Batch 5:  Loss  4852.35 , Accurary 0.3842\n",
      "Epoch 48, CIFAR-10 Batch 1:  Loss  1872.16 , Accurary 0.4162\n",
      "Epoch 48, CIFAR-10 Batch 2:  Loss  2072.16 , Accurary 0.3912\n",
      "Epoch 48, CIFAR-10 Batch 3:  Loss  290.665 , Accurary 0.417\n",
      "Epoch 48, CIFAR-10 Batch 4:  Loss  4902.35 , Accurary 0.3674\n",
      "Epoch 48, CIFAR-10 Batch 5:  Loss  5320.89 , Accurary 0.3848\n",
      "Epoch 49, CIFAR-10 Batch 1:  Loss  2028.31 , Accurary 0.4156\n",
      "Epoch 49, CIFAR-10 Batch 2:  Loss  4083.56 , Accurary 0.3874\n",
      "Epoch 49, CIFAR-10 Batch 3:  Loss  930.47 , Accurary 0.4142\n",
      "Epoch 49, CIFAR-10 Batch 4:  Loss  6456.16 , Accurary 0.3672\n",
      "Epoch 49, CIFAR-10 Batch 5:  Loss  5995.44 , Accurary 0.3866\n",
      "Epoch 50, CIFAR-10 Batch 1:  Loss  3084.89 , Accurary 0.4182\n",
      "Epoch 50, CIFAR-10 Batch 2:  Loss  5659.12 , Accurary 0.383\n",
      "Epoch 50, CIFAR-10 Batch 3:  Loss  2877.28 , Accurary 0.4238\n",
      "Epoch 50, CIFAR-10 Batch 4:  Loss  3799.97 , Accurary 0.3508\n",
      "Epoch 50, CIFAR-10 Batch 5:  Loss  10660.2 , Accurary 0.391\n",
      "Epoch 51, CIFAR-10 Batch 1:  Loss  6103.94 , Accurary 0.3984\n",
      "Epoch 51, CIFAR-10 Batch 2:  Loss  3593.61 , Accurary 0.412\n",
      "Epoch 51, CIFAR-10 Batch 3:  Loss  6920.93 , Accurary 0.3892\n",
      "Epoch 51, CIFAR-10 Batch 4:  Loss  9043.02 , Accurary 0.346\n",
      "Epoch 51, CIFAR-10 Batch 5:  Loss  1832.78 , Accurary 0.3976\n",
      "Epoch 52, CIFAR-10 Batch 1:  Loss  6147.08 , Accurary 0.3942\n",
      "Epoch 52, CIFAR-10 Batch 2:  Loss  4479.87 , Accurary 0.3808\n",
      "Epoch 52, CIFAR-10 Batch 3:  Loss  4430.11 , Accurary 0.3846\n",
      "Epoch 52, CIFAR-10 Batch 4:  Loss  1506.29 , Accurary 0.3842\n",
      "Epoch 52, CIFAR-10 Batch 5:  Loss  7141.32 , Accurary 0.3774\n",
      "Epoch 53, CIFAR-10 Batch 1:  Loss  19381.1 , Accurary 0.3504\n",
      "Epoch 53, CIFAR-10 Batch 2:  Loss  4533.42 , Accurary 0.4126\n",
      "Epoch 53, CIFAR-10 Batch 3:  Loss  2312.44 , Accurary 0.4096\n",
      "Epoch 53, CIFAR-10 Batch 4:  Loss  1000.58 , Accurary 0.423\n",
      "Epoch 53, CIFAR-10 Batch 5:  Loss  3665.43 , Accurary 0.4068\n",
      "Epoch 54, CIFAR-10 Batch 1:  Loss  4755.65 , Accurary 0.402\n",
      "Epoch 54, CIFAR-10 Batch 2:  Loss  1164.7 , Accurary 0.4284\n",
      "Epoch 54, CIFAR-10 Batch 3:  Loss  1207.3 , Accurary 0.3994\n",
      "Epoch 54, CIFAR-10 Batch 4:  Loss  3439.3 , Accurary 0.3938\n",
      "Epoch 54, CIFAR-10 Batch 5:  Loss  4766.24 , Accurary 0.4036\n",
      "Epoch 55, CIFAR-10 Batch 1:  Loss  4993.48 , Accurary 0.3778\n",
      "Epoch 55, CIFAR-10 Batch 2:  Loss  797.98 , Accurary 0.401\n",
      "Epoch 55, CIFAR-10 Batch 3:  Loss  4412.38 , Accurary 0.392\n",
      "Epoch 55, CIFAR-10 Batch 4:  Loss  1851.13 , Accurary 0.394\n",
      "Epoch 55, CIFAR-10 Batch 5:  Loss  6022.99 , Accurary 0.4142\n",
      "Epoch 56, CIFAR-10 Batch 1:  Loss  885.11 , Accurary 0.4104\n",
      "Epoch 56, CIFAR-10 Batch 2:  Loss  839.496 , Accurary 0.39\n",
      "Epoch 56, CIFAR-10 Batch 3:  Loss  0.0 , Accurary 0.3926\n",
      "Epoch 56, CIFAR-10 Batch 4:  Loss  2562.54 , Accurary 0.389\n",
      "Epoch 56, CIFAR-10 Batch 5:  Loss  8546.2 , Accurary 0.4302\n",
      "Epoch 57, CIFAR-10 Batch 1:  Loss  292.204 , Accurary 0.4038\n",
      "Epoch 57, CIFAR-10 Batch 2:  Loss  2353.42 , Accurary 0.382\n",
      "Epoch 57, CIFAR-10 Batch 3:  Loss  2389.84 , Accurary 0.3746\n",
      "Epoch 57, CIFAR-10 Batch 4:  Loss  6482.36 , Accurary 0.3904\n",
      "Epoch 57, CIFAR-10 Batch 5:  Loss  8118.08 , Accurary 0.4126\n",
      "Epoch 58, CIFAR-10 Batch 1:  Loss  1982.47 , Accurary 0.4224\n",
      "Epoch 58, CIFAR-10 Batch 2:  Loss  4125.5 , Accurary 0.3782\n",
      "Epoch 58, CIFAR-10 Batch 3:  Loss  589.286 , Accurary 0.4014\n",
      "Epoch 58, CIFAR-10 Batch 4:  Loss  3408.73 , Accurary 0.399\n",
      "Epoch 58, CIFAR-10 Batch 5:  Loss  2178.74 , Accurary 0.4256\n",
      "Epoch 59, CIFAR-10 Batch 1:  Loss  226.59 , Accurary 0.4168\n",
      "Epoch 59, CIFAR-10 Batch 2:  Loss  491.309 , Accurary 0.3784\n",
      "Epoch 59, CIFAR-10 Batch 3:  Loss  871.427 , Accurary 0.415\n",
      "Epoch 59, CIFAR-10 Batch 4:  Loss  6339.94 , Accurary 0.4218\n",
      "Epoch 59, CIFAR-10 Batch 5:  Loss  3727.53 , Accurary 0.4094\n",
      "Epoch 60, CIFAR-10 Batch 1:  Loss  89.2555 , Accurary 0.4238\n",
      "Epoch 60, CIFAR-10 Batch 2:  Loss  3089.38 , Accurary 0.39\n",
      "Epoch 60, CIFAR-10 Batch 3:  Loss  801.079 , Accurary 0.4176\n",
      "Epoch 60, CIFAR-10 Batch 4:  Loss  804.961 , Accurary 0.432\n",
      "Epoch 60, CIFAR-10 Batch 5:  Loss  3434.11 , Accurary 0.4148\n",
      "Epoch 61, CIFAR-10 Batch 1:  Loss  11.9359 , Accurary 0.4292\n",
      "Epoch 61, CIFAR-10 Batch 2:  Loss  6565.15 , Accurary 0.3594\n",
      "Epoch 61, CIFAR-10 Batch 3:  Loss  707.293 , Accurary 0.4184\n",
      "Epoch 61, CIFAR-10 Batch 4:  Loss  3542.62 , Accurary 0.3988\n",
      "Epoch 61, CIFAR-10 Batch 5:  Loss  7125.09 , Accurary 0.395\n",
      "Epoch 62, CIFAR-10 Batch 1:  Loss  2257.15 , Accurary 0.4076\n",
      "Epoch 62, CIFAR-10 Batch 2:  Loss  3282.91 , Accurary 0.3904\n",
      "Epoch 62, CIFAR-10 Batch 3:  Loss  484.87 , Accurary 0.4122\n",
      "Epoch 62, CIFAR-10 Batch 4:  Loss  6243.76 , Accurary 0.4038\n",
      "Epoch 62, CIFAR-10 Batch 5:  Loss  2815.42 , Accurary 0.4094\n",
      "Epoch 63, CIFAR-10 Batch 1:  Loss  8343.01 , Accurary 0.3888\n",
      "Epoch 63, CIFAR-10 Batch 2:  Loss  2827.62 , Accurary 0.3848\n",
      "Epoch 63, CIFAR-10 Batch 3:  Loss  104.471 , Accurary 0.4272\n",
      "Epoch 63, CIFAR-10 Batch 4:  Loss  3778.46 , Accurary 0.4176\n",
      "Epoch 63, CIFAR-10 Batch 5:  Loss  154.355 , Accurary 0.4288\n",
      "Epoch 64, CIFAR-10 Batch 1:  Loss  4685.48 , Accurary 0.3668\n",
      "Epoch 64, CIFAR-10 Batch 2:  Loss  2041.68 , Accurary 0.3832\n",
      "Epoch 64, CIFAR-10 Batch 3:  Loss  175.841 , Accurary 0.433\n",
      "Epoch 64, CIFAR-10 Batch 4:  Loss  1866.09 , Accurary 0.4416\n",
      "Epoch 64, CIFAR-10 Batch 5:  Loss  1065.86 , Accurary 0.4098\n",
      "Epoch 65, CIFAR-10 Batch 1:  Loss  5847.86 , Accurary 0.371\n",
      "Epoch 65, CIFAR-10 Batch 2:  Loss  863.098 , Accurary 0.3862\n",
      "Epoch 65, CIFAR-10 Batch 3:  Loss  793.152 , Accurary 0.4074\n",
      "Epoch 65, CIFAR-10 Batch 4:  Loss  1198.34 , Accurary 0.438\n",
      "Epoch 65, CIFAR-10 Batch 5:  Loss  9677.45 , Accurary 0.3776\n",
      "Epoch 66, CIFAR-10 Batch 1:  Loss  4767.9 , Accurary 0.4094\n",
      "Epoch 66, CIFAR-10 Batch 2:  Loss  69.6609 , Accurary 0.4328\n",
      "Epoch 66, CIFAR-10 Batch 3:  Loss  44.7039 , Accurary 0.4382\n",
      "Epoch 66, CIFAR-10 Batch 4:  Loss  4879.67 , Accurary 0.4136\n",
      "Epoch 66, CIFAR-10 Batch 5:  Loss  1484.81 , Accurary 0.428\n",
      "Epoch 67, CIFAR-10 Batch 1:  Loss  4333.15 , Accurary 0.4124\n",
      "Epoch 67, CIFAR-10 Batch 2:  Loss  723.799 , Accurary 0.4018\n",
      "Epoch 67, CIFAR-10 Batch 3:  Loss  705.077 , Accurary 0.437\n",
      "Epoch 67, CIFAR-10 Batch 4:  Loss  2583.32 , Accurary 0.4014\n",
      "Epoch 67, CIFAR-10 Batch 5:  Loss  4365.39 , Accurary 0.3884\n",
      "Epoch 68, CIFAR-10 Batch 1:  Loss  3917.15 , Accurary 0.419\n",
      "Epoch 68, CIFAR-10 Batch 2:  Loss  5446.81 , Accurary 0.3624\n",
      "Epoch 68, CIFAR-10 Batch 3:  Loss  537.841 , Accurary 0.4282\n",
      "Epoch 68, CIFAR-10 Batch 4:  Loss  2217.53 , Accurary 0.3968\n",
      "Epoch 68, CIFAR-10 Batch 5:  Loss  1298.48 , Accurary 0.4054\n",
      "Epoch 69, CIFAR-10 Batch 1:  Loss  1857.58 , Accurary 0.4378\n",
      "Epoch 69, CIFAR-10 Batch 2:  Loss  0.0 , Accurary 0.3836\n",
      "Epoch 69, CIFAR-10 Batch 3:  Loss  1451.99 , Accurary 0.4248\n",
      "Epoch 69, CIFAR-10 Batch 4:  Loss  2622.06 , Accurary 0.3896\n",
      "Epoch 69, CIFAR-10 Batch 5:  Loss  2010.0 , Accurary 0.4006\n",
      "Epoch 70, CIFAR-10 Batch 1:  Loss  543.709 , Accurary 0.4256\n",
      "Epoch 70, CIFAR-10 Batch 2:  Loss  556.664 , Accurary 0.3796\n",
      "Epoch 70, CIFAR-10 Batch 3:  Loss  187.159 , Accurary 0.4188\n",
      "Epoch 70, CIFAR-10 Batch 4:  Loss  522.839 , Accurary 0.421\n",
      "Epoch 70, CIFAR-10 Batch 5:  Loss  822.615 , Accurary 0.3966\n",
      "Epoch 71, CIFAR-10 Batch 1:  Loss  2646.71 , Accurary 0.427\n",
      "Epoch 71, CIFAR-10 Batch 2:  Loss  1018.81 , Accurary 0.365\n",
      "Epoch 71, CIFAR-10 Batch 3:  Loss  304.99 , Accurary 0.4158\n",
      "Epoch 71, CIFAR-10 Batch 4:  Loss  531.006 , Accurary 0.4152\n",
      "Epoch 71, CIFAR-10 Batch 5:  Loss  3890.15 , Accurary 0.3904\n",
      "Epoch 72, CIFAR-10 Batch 1:  Loss  342.817 , Accurary 0.446\n",
      "Epoch 72, CIFAR-10 Batch 2:  Loss  1274.7 , Accurary 0.3756\n",
      "Epoch 72, CIFAR-10 Batch 3:  Loss  1202.0 , Accurary 0.4166\n",
      "Epoch 72, CIFAR-10 Batch 4:  Loss  1283.32 , Accurary 0.4044\n",
      "Epoch 72, CIFAR-10 Batch 5:  Loss  3040.77 , Accurary 0.401\n",
      "Epoch 73, CIFAR-10 Batch 1:  Loss  349.751 , Accurary 0.4376\n",
      "Epoch 73, CIFAR-10 Batch 2:  Loss  5309.95 , Accurary 0.3678\n",
      "Epoch 73, CIFAR-10 Batch 3:  Loss  0.0 , Accurary 0.4336\n",
      "Epoch 73, CIFAR-10 Batch 4:  Loss  2981.09 , Accurary 0.4048\n",
      "Epoch 73, CIFAR-10 Batch 5:  Loss  1304.0 , Accurary 0.4176\n",
      "Epoch 74, CIFAR-10 Batch 1:  Loss  2245.68 , Accurary 0.4018\n",
      "Epoch 74, CIFAR-10 Batch 2:  Loss  536.2 , Accurary 0.4284\n",
      "Epoch 74, CIFAR-10 Batch 3:  Loss  417.997 , Accurary 0.4318\n",
      "Epoch 74, CIFAR-10 Batch 4:  Loss  75.6676 , Accurary 0.409\n",
      "Epoch 74, CIFAR-10 Batch 5:  Loss  1341.13 , Accurary 0.4202\n",
      "Epoch 75, CIFAR-10 Batch 1:  Loss  2294.52 , Accurary 0.3988\n",
      "Epoch 75, CIFAR-10 Batch 2:  Loss  16.5256 , Accurary 0.4196\n",
      "Epoch 75, CIFAR-10 Batch 3:  Loss  1006.7 , Accurary 0.4012\n",
      "Epoch 75, CIFAR-10 Batch 4:  Loss  615.044 , Accurary 0.4098\n",
      "Epoch 75, CIFAR-10 Batch 5:  Loss  2135.82 , Accurary 0.4084\n",
      "Epoch 76, CIFAR-10 Batch 1:  Loss  2781.97 , Accurary 0.411\n",
      "Epoch 76, CIFAR-10 Batch 2:  Loss  24.6658 , Accurary 0.4102\n",
      "Epoch 76, CIFAR-10 Batch 3:  Loss  787.678 , Accurary 0.402\n",
      "Epoch 76, CIFAR-10 Batch 4:  Loss  807.241 , Accurary 0.4142\n",
      "Epoch 76, CIFAR-10 Batch 5:  Loss  419.77 , Accurary 0.4062\n",
      "Epoch 77, CIFAR-10 Batch 1:  Loss  1904.29 , Accurary 0.4172\n",
      "Epoch 77, CIFAR-10 Batch 2:  Loss  84.7254 , Accurary 0.402\n",
      "Epoch 77, CIFAR-10 Batch 3:  Loss  3012.46 , Accurary 0.3898\n",
      "Epoch 77, CIFAR-10 Batch 4:  Loss  1008.95 , Accurary 0.4296\n",
      "Epoch 77, CIFAR-10 Batch 5:  Loss  976.931 , Accurary 0.4136\n",
      "Epoch 78, CIFAR-10 Batch 1:  Loss  536.19 , Accurary 0.427\n",
      "Epoch 78, CIFAR-10 Batch 2:  Loss  0.0 , Accurary 0.3974\n",
      "Epoch 78, CIFAR-10 Batch 3:  Loss  917.736 , Accurary 0.4234\n",
      "Epoch 78, CIFAR-10 Batch 4:  Loss  2168.36 , Accurary 0.4344\n",
      "Epoch 78, CIFAR-10 Batch 5:  Loss  272.6 , Accurary 0.4388\n",
      "Epoch 79, CIFAR-10 Batch 1:  Loss  217.075 , Accurary 0.4258\n",
      "Epoch 79, CIFAR-10 Batch 2:  Loss  1796.95 , Accurary 0.3912\n",
      "Epoch 79, CIFAR-10 Batch 3:  Loss  453.281 , Accurary 0.4124\n",
      "Epoch 79, CIFAR-10 Batch 4:  Loss  1183.75 , Accurary 0.445\n",
      "Epoch 79, CIFAR-10 Batch 5:  Loss  930.569 , Accurary 0.442\n",
      "Epoch 80, CIFAR-10 Batch 1:  Loss  707.415 , Accurary 0.4186\n",
      "Epoch 80, CIFAR-10 Batch 2:  Loss  91.7063 , Accurary 0.4088\n",
      "Epoch 80, CIFAR-10 Batch 3:  Loss  80.0121 , Accurary 0.4174\n",
      "Epoch 80, CIFAR-10 Batch 4:  Loss  2152.84 , Accurary 0.4324\n",
      "Epoch 80, CIFAR-10 Batch 5:  Loss  211.822 , Accurary 0.4444\n",
      "Epoch 81, CIFAR-10 Batch 1:  Loss  296.711 , Accurary 0.4562\n",
      "Epoch 81, CIFAR-10 Batch 2:  Loss  310.466 , Accurary 0.4256\n",
      "Epoch 81, CIFAR-10 Batch 3:  Loss  702.08 , Accurary 0.4286\n",
      "Epoch 81, CIFAR-10 Batch 4:  Loss  1048.66 , Accurary 0.4312\n",
      "Epoch 81, CIFAR-10 Batch 5:  Loss  1075.78 , Accurary 0.4342\n",
      "Epoch 82, CIFAR-10 Batch 1:  Loss  0.0 , Accurary 0.445\n",
      "Epoch 82, CIFAR-10 Batch 2:  Loss  98.0355 , Accurary 0.4144\n",
      "Epoch 82, CIFAR-10 Batch 3:  Loss  396.885 , Accurary 0.4318\n",
      "Epoch 82, CIFAR-10 Batch 4:  Loss  40.8422 , Accurary 0.4264\n",
      "Epoch 82, CIFAR-10 Batch 5:  Loss  3559.98 , Accurary 0.4148\n",
      "Epoch 83, CIFAR-10 Batch 1:  Loss  274.454 , Accurary 0.4566\n",
      "Epoch 83, CIFAR-10 Batch 2:  Loss  0.0 , Accurary 0.4058\n",
      "Epoch 83, CIFAR-10 Batch 3:  Loss  0.0 , Accurary 0.4284\n",
      "Epoch 83, CIFAR-10 Batch 4:  Loss  635.868 , Accurary 0.421\n",
      "Epoch 83, CIFAR-10 Batch 5:  Loss  959.966 , Accurary 0.4096\n",
      "Epoch 84, CIFAR-10 Batch 1:  Loss  146.786 , Accurary 0.4544\n",
      "Epoch 84, CIFAR-10 Batch 2:  Loss  101.16 , Accurary 0.4138\n",
      "Epoch 84, CIFAR-10 Batch 3:  Loss  393.404 , Accurary 0.4248\n",
      "Epoch 84, CIFAR-10 Batch 4:  Loss  202.902 , Accurary 0.4148\n",
      "Epoch 84, CIFAR-10 Batch 5:  Loss  834.126 , Accurary 0.4196\n",
      "Epoch 85, CIFAR-10 Batch 1:  Loss  1615.87 , Accurary 0.4432\n",
      "Epoch 85, CIFAR-10 Batch 2:  Loss  191.422 , Accurary 0.3886\n",
      "Epoch 85, CIFAR-10 Batch 3:  Loss  353.544 , Accurary 0.4362\n",
      "Epoch 85, CIFAR-10 Batch 4:  Loss  2079.79 , Accurary 0.3876\n",
      "Epoch 85, CIFAR-10 Batch 5:  Loss  757.616 , Accurary 0.4238\n",
      "Epoch 86, CIFAR-10 Batch 1:  Loss  316.107 , Accurary 0.4594\n",
      "Epoch 86, CIFAR-10 Batch 2:  Loss  1510.63 , Accurary 0.3904\n",
      "Epoch 86, CIFAR-10 Batch 3:  Loss  0.0 , Accurary 0.4182\n",
      "Epoch 86, CIFAR-10 Batch 4:  Loss  144.904 , Accurary 0.4454\n",
      "Epoch 86, CIFAR-10 Batch 5:  Loss  1179.49 , Accurary 0.4342\n",
      "Epoch 87, CIFAR-10 Batch 1:  Loss  0.0 , Accurary 0.4592\n",
      "Epoch 87, CIFAR-10 Batch 2:  Loss  22.1912 , Accurary 0.4382\n",
      "Epoch 87, CIFAR-10 Batch 3:  Loss  321.693 , Accurary 0.4178\n",
      "Epoch 87, CIFAR-10 Batch 4:  Loss  344.56 , Accurary 0.4442\n",
      "Epoch 87, CIFAR-10 Batch 5:  Loss  244.136 , Accurary 0.4334\n",
      "Epoch 88, CIFAR-10 Batch 1:  Loss  395.658 , Accurary 0.4532\n",
      "Epoch 88, CIFAR-10 Batch 2:  Loss  0.0 , Accurary 0.4428\n",
      "Epoch 88, CIFAR-10 Batch 3:  Loss  961.24 , Accurary 0.4138\n",
      "Epoch 88, CIFAR-10 Batch 4:  Loss  706.558 , Accurary 0.4348\n",
      "Epoch 88, CIFAR-10 Batch 5:  Loss  1558.11 , Accurary 0.3994\n",
      "Epoch 89, CIFAR-10 Batch 1:  Loss  507.225 , Accurary 0.4472\n",
      "Epoch 89, CIFAR-10 Batch 2:  Loss  0.0 , Accurary 0.4532\n",
      "Epoch 89, CIFAR-10 Batch 3:  Loss  0.0 , Accurary 0.4252\n",
      "Epoch 89, CIFAR-10 Batch 4:  Loss  293.162 , Accurary 0.4414\n",
      "Epoch 89, CIFAR-10 Batch 5:  Loss  1381.83 , Accurary 0.4236\n",
      "Epoch 90, CIFAR-10 Batch 1:  Loss  102.119 , Accurary 0.4562\n",
      "Epoch 90, CIFAR-10 Batch 2:  Loss  0.0 , Accurary 0.4478\n",
      "Epoch 90, CIFAR-10 Batch 3:  Loss  0.0 , Accurary 0.4354\n",
      "Epoch 90, CIFAR-10 Batch 4:  Loss  919.78 , Accurary 0.4266\n",
      "Epoch 90, CIFAR-10 Batch 5:  Loss  1014.03 , Accurary 0.424\n",
      "Epoch 91, CIFAR-10 Batch 1:  Loss  0.0 , Accurary 0.4636\n",
      "Epoch 91, CIFAR-10 Batch 2:  Loss  187.502 , Accurary 0.4476\n",
      "Epoch 91, CIFAR-10 Batch 3:  Loss  0.0 , Accurary 0.4378\n",
      "Epoch 91, CIFAR-10 Batch 4:  Loss  435.978 , Accurary 0.4394\n",
      "Epoch 91, CIFAR-10 Batch 5:  Loss  236.884 , Accurary 0.4372\n",
      "Epoch 92, CIFAR-10 Batch 1:  Loss  732.453 , Accurary 0.4524\n",
      "Epoch 92, CIFAR-10 Batch 2:  Loss  1769.08 , Accurary 0.444\n",
      "Epoch 92, CIFAR-10 Batch 3:  Loss  557.126 , Accurary 0.428\n",
      "Epoch 92, CIFAR-10 Batch 4:  Loss  703.08 , Accurary 0.4394\n",
      "Epoch 92, CIFAR-10 Batch 5:  Loss  388.181 , Accurary 0.4438\n",
      "Epoch 93, CIFAR-10 Batch 1:  Loss  955.497 , Accurary 0.4488\n",
      "Epoch 93, CIFAR-10 Batch 2:  Loss  396.815 , Accurary 0.4488\n",
      "Epoch 93, CIFAR-10 Batch 3:  Loss  3802.07 , Accurary 0.4154\n",
      "Epoch 93, CIFAR-10 Batch 4:  Loss  2247.55 , Accurary 0.4294\n",
      "Epoch 93, CIFAR-10 Batch 5:  Loss  0.0 , Accurary 0.4534\n",
      "Epoch 94, CIFAR-10 Batch 1:  Loss  0.0 , Accurary 0.456\n",
      "Epoch 94, CIFAR-10 Batch 2:  Loss  579.908 , Accurary 0.435\n",
      "Epoch 94, CIFAR-10 Batch 3:  Loss  5788.34 , Accurary 0.4312\n",
      "Epoch 94, CIFAR-10 Batch 4:  Loss  824.004 , Accurary 0.455\n",
      "Epoch 94, CIFAR-10 Batch 5:  Loss  54.6676 , Accurary 0.443\n",
      "Epoch 95, CIFAR-10 Batch 1:  Loss  0.0 , Accurary 0.4654\n",
      "Epoch 95, CIFAR-10 Batch 2:  Loss  312.144 , Accurary 0.417\n",
      "Epoch 95, CIFAR-10 Batch 3:  Loss  1707.11 , Accurary 0.4292\n",
      "Epoch 95, CIFAR-10 Batch 4:  Loss  458.59 , Accurary 0.4412\n",
      "Epoch 95, CIFAR-10 Batch 5:  Loss  0.0 , Accurary 0.4496\n",
      "Epoch 96, CIFAR-10 Batch 1:  Loss  0.0 , Accurary 0.457\n",
      "Epoch 96, CIFAR-10 Batch 2:  Loss  402.785 , Accurary 0.4232\n",
      "Epoch 96, CIFAR-10 Batch 3:  Loss  0.0 , Accurary 0.447\n",
      "Epoch 96, CIFAR-10 Batch 4:  Loss  274.436 , Accurary 0.4438\n",
      "Epoch 96, CIFAR-10 Batch 5:  Loss  0.0 , Accurary 0.4576\n",
      "Epoch 97, CIFAR-10 Batch 1:  Loss  0.0 , Accurary 0.4576\n",
      "Epoch 97, CIFAR-10 Batch 2:  Loss  0.0 , Accurary 0.4242\n",
      "Epoch 97, CIFAR-10 Batch 3:  Loss  0.0 , Accurary 0.4432\n",
      "Epoch 97, CIFAR-10 Batch 4:  Loss  795.198 , Accurary 0.4628\n",
      "Epoch 97, CIFAR-10 Batch 5:  Loss  614.319 , Accurary 0.4574\n",
      "Epoch 98, CIFAR-10 Batch 1:  Loss  113.797 , Accurary 0.4502\n",
      "Epoch 98, CIFAR-10 Batch 2:  Loss  0.0 , Accurary 0.4168\n",
      "Epoch 98, CIFAR-10 Batch 3:  Loss  0.0 , Accurary 0.4484\n",
      "Epoch 98, CIFAR-10 Batch 4:  Loss  12.2805 , Accurary 0.441\n",
      "Epoch 98, CIFAR-10 Batch 5:  Loss  0.0 , Accurary 0.4686\n",
      "Epoch 99, CIFAR-10 Batch 1:  Loss  0.0 , Accurary 0.4472\n",
      "Epoch 99, CIFAR-10 Batch 2:  Loss  1726.29 , Accurary 0.4214\n",
      "Epoch 99, CIFAR-10 Batch 3:  Loss  314.07 , Accurary 0.4328\n",
      "Epoch 99, CIFAR-10 Batch 4:  Loss  1027.22 , Accurary 0.4306\n",
      "Epoch 99, CIFAR-10 Batch 5:  Loss  0.0 , Accurary 0.4628\n",
      "Epoch 100, CIFAR-10 Batch 1:  Loss  0.0 , Accurary 0.4502\n",
      "Epoch 100, CIFAR-10 Batch 2:  Loss  159.889 , Accurary 0.4398\n",
      "Epoch 100, CIFAR-10 Batch 3:  Loss  0.0 , Accurary 0.442\n",
      "Epoch 100, CIFAR-10 Batch 4:  Loss  505.465 , Accurary 0.4252\n",
      "Epoch 100, CIFAR-10 Batch 5:  Loss  0.0 , Accurary 0.4624\n"
     ]
    }
   ],
   "source": [
    "\"\"\"\n",
    "DON'T MODIFY ANYTHING IN THIS CELL\n",
    "\"\"\"\n",
    "save_model_path = './image_classification'\n",
    "\n",
    "print('Training...')\n",
    "with tf.Session() as sess:\n",
    "    # Initializing the variables\n",
    "    sess.run(tf.global_variables_initializer())\n",
    "    \n",
    "    # Training cycle\n",
    "    for epoch in range(epochs):\n",
    "        # Loop over all batches\n",
    "        n_batches = 5\n",
    "        for batch_i in range(1, n_batches + 1):\n",
    "            for batch_features, batch_labels in helper.load_preprocess_training_batch(batch_i, batch_size):\n",
    "                train_neural_network(sess, optimizer, keep_probability, batch_features, batch_labels)\n",
    "            print('Epoch {:>2}, CIFAR-10 Batch {}:  '.format(epoch + 1, batch_i), end='')\n",
    "            print_stats(sess, batch_features, batch_labels, cost, accuracy)\n",
    "            \n",
    "    # Save Model\n",
    "    saver = tf.train.Saver()\n",
    "    save_path = saver.save(sess, save_model_path)"
   ]
  },
  {
   "cell_type": "markdown",
   "metadata": {
    "deletable": true,
    "editable": true
   },
   "source": [
    "# Checkpoint\n",
    "The model has been saved to disk.\n",
    "## Test Model\n",
    "Test your model against the test dataset.  This will be your final accuracy. You should have an accuracy greater than 50%. If you don't, keep tweaking the model architecture and parameters."
   ]
  },
  {
   "cell_type": "code",
   "execution_count": 299,
   "metadata": {
    "collapsed": false,
    "deletable": true,
    "editable": true
   },
   "outputs": [
    {
     "name": "stdout",
     "output_type": "stream",
     "text": [
      "Testing Accuracy: 0.46748046875\n",
      "\n"
     ]
    },
    {
     "data": {
      "image/png": "[encoded data removed]",
      "text/plain": [
       "<matplotlib.figure.Figure at 0x7f2a79a44f60>"
      ]
     },
     "metadata": {
      "image/png": {
       "height": 319,
       "width": 349
      }
     },
     "output_type": "display_data"
    }
   ],
   "source": [
    "\"\"\"\n",
    "DON'T MODIFY ANYTHING IN THIS CELL\n",
    "\"\"\"\n",
    "%matplotlib inline\n",
    "%config InlineBackend.figure_format = 'retina'\n",
    "\n",
    "import tensorflow as tf\n",
    "import pickle\n",
    "import helper\n",
    "import random\n",
    "\n",
    "# Set batch size if not already set\n",
    "try:\n",
    "    if batch_size:\n",
    "        pass\n",
    "except NameError:\n",
    "    batch_size = 64\n",
    "\n",
    "save_model_path = './image_classification'\n",
    "n_samples = 4\n",
    "top_n_predictions = 3\n",
    "\n",
    "def test_model():\n",
    "    \"\"\"\n",
    "    Test the saved model against the test dataset\n",
    "    \"\"\"\n",
    "\n",
    "    test_features, test_labels = pickle.load(open('preprocess_training.p', mode='rb'))\n",
    "    loaded_graph = tf.Graph()\n",
    "\n",
    "    with tf.Session(graph=loaded_graph) as sess:\n",
    "        # Load model\n",
    "        loader = tf.train.import_meta_graph(save_model_path + '.meta')\n",
    "        loader.restore(sess, save_model_path)\n",
    "\n",
    "        # Get Tensors from loaded model\n",
    "        loaded_x = loaded_graph.get_tensor_by_name('x:0')\n",
    "        loaded_y = loaded_graph.get_tensor_by_name('y:0')\n",
    "        loaded_keep_prob = loaded_graph.get_tensor_by_name('keep_prob:0')\n",
    "        loaded_logits = loaded_graph.get_tensor_by_name('logits:0')\n",
    "        loaded_acc = loaded_graph.get_tensor_by_name('accuracy:0')\n",
    "        \n",
    "        # Get accuracy in batches for memory limitations\n",
    "        test_batch_acc_total = 0\n",
    "        test_batch_count = 0\n",
    "        \n",
    "        for train_feature_batch, train_label_batch in helper.batch_features_labels(test_features, test_labels, batch_size):\n",
    "            test_batch_acc_total += sess.run(\n",
    "                loaded_acc,\n",
    "                feed_dict={loaded_x: train_feature_batch, loaded_y: train_label_batch, loaded_keep_prob: 1.0})\n",
    "            test_batch_count += 1\n",
    "\n",
    "        print('Testing Accuracy: {}\\n'.format(test_batch_acc_total/test_batch_count))\n",
    "\n",
    "        # Print Random Samples\n",
    "        random_test_features, random_test_labels = tuple(zip(*random.sample(list(zip(test_features, test_labels)), n_samples)))\n",
    "        random_test_predictions = sess.run(\n",
    "            tf.nn.top_k(tf.nn.softmax(loaded_logits), top_n_predictions),\n",
    "            feed_dict={loaded_x: random_test_features, loaded_y: random_test_labels, loaded_keep_prob: 1.0})\n",
    "        helper.display_image_predictions(random_test_features, random_test_labels, random_test_predictions)\n",
    "\n",
    "\n",
    "test_model()"
   ]
  },
  {
   "cell_type": "markdown",
   "metadata": {
    "deletable": true,
    "editable": true
   },
   "source": [
    "## Why 50-70% Accuracy?\n",
    "You might be wondering why you can't get an accuracy any higher. First things first, 50% isn't bad for a simple CNN.  Pure guessing would get you 10% accuracy. However, you might notice people are getting scores [well above 70%](http://rodrigob.github.io/are_we_there_yet/build/classification_datasets_results.html#43494641522d3130).  That's because we haven't taught you all there is to know about neural networks. We still need to cover a few more techniques.\n",
    "## Submitting This Project\n",
    "When submitting this project, make sure to run all the cells before saving the notebook.  Save the notebook file as \"dlnd_image_classification.ipynb\" and save it as a HTML file under \"File\" -> \"Download as\".  Include the \"helper.py\" and \"problem_unittests.py\" files in your submission."
   ]
  }
 ],
 "metadata": {
  "kernelspec": {
   "display_name": "Python 3",
   "language": "python",
   "name": "python3"
  },
  "language_info": {
   "codemirror_mode": {
    "name": "ipython",
    "version": 3
   },
   "file_extension": ".py",
   "mimetype": "text/x-python",
   "name": "python",
   "nbconvert_exporter": "python",
   "pygments_lexer": "ipython3",
   "version": "3.5.2"
  }
 },
 "nbformat": 4,
 "nbformat_minor": 0
}
